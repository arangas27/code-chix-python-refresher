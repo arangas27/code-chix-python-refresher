{
 "cells": [
  {
   "cell_type": "markdown",
   "metadata": {},
   "source": [
    "### Activity 1. Read over a text file and parse each record into a dictionary\n",
    "\n",
    "1. create an empty list called customers\n",
    "2. open customers.txt\n",
    "3. read the file using file.readlines()\n",
    "4. parse each line into a list using str.split() and append it to your customer list\n",
    "5. at this point you should have a list of lists.\n"
   ]
  },
  {
   "cell_type": "markdown",
   "metadata": {},
   "source": [
    "#### Review:"
   ]
  },
  {
   "cell_type": "code",
   "execution_count": 1,
   "metadata": {},
   "outputs": [],
   "source": [
    "from pprint import pprint as pp"
   ]
  },
  {
   "cell_type": "code",
   "execution_count": 2,
   "metadata": {},
   "outputs": [
    {
     "name": "stdout",
     "output_type": "stream",
     "text": [
      "[['linda', '122.12', '37.59', '2'],\n",
      " ['ralph', '122.09', '37.50', '4'],\n",
      " ['kieth', '122.20', '37.51', '2'],\n",
      " ['cindy', '122.16', '37.57', '1'],\n",
      " ['aimee', '122.11', '37.53', '3']]\n"
     ]
    }
   ],
   "source": [
    "customers = []\n",
    "header = []\n",
    "path = '/Users/cyrus/Documents/projects/codechix/code-chix-py-deck/customers.txt'\n",
    "\n",
    "with open(path, 'r') as f:\n",
    "    customer_records = f.readlines()\n",
    "    header = customer_records[0].strip().split('|')\n",
    "    for customer in customer_records[1:]:\n",
    "        customers.append(customer.strip().split('|'))\n",
    "    pp(customers)"
   ]
  },
  {
   "cell_type": "code",
   "execution_count": 3,
   "metadata": {},
   "outputs": [
    {
     "data": {
      "text/plain": [
       "[{'name': 'linda', 'easting': '122.12'},\n",
       " {'name': 'ralph', 'easting': '122.09'},\n",
       " {'name': 'kieth', 'easting': '122.20'},\n",
       " {'name': 'cindy', 'easting': '122.16'},\n",
       " {'name': 'aimee', 'easting': '122.11'}]"
      ]
     },
     "execution_count": 3,
     "metadata": {},
     "output_type": "execute_result"
    }
   ],
   "source": [
    "[{header[0]: customer[0], header[1]: customer[1]} for customer in customers]"
   ]
  },
  {
   "cell_type": "code",
   "execution_count": 4,
   "metadata": {},
   "outputs": [
    {
     "data": {
      "text/plain": [
       "[{'name': 'linda', 'easting': '122.12', 'northing': '37.59', 'petcount': '2'},\n",
       " {'name': 'ralph', 'easting': '122.09', 'northing': '37.50', 'petcount': '4'},\n",
       " {'name': 'kieth', 'easting': '122.20', 'northing': '37.51', 'petcount': '2'},\n",
       " {'name': 'cindy', 'easting': '122.16', 'northing': '37.57', 'petcount': '1'},\n",
       " {'name': 'aimee', 'easting': '122.11', 'northing': '37.53', 'petcount': '3'}]"
      ]
     },
     "execution_count": 4,
     "metadata": {},
     "output_type": "execute_result"
    }
   ],
   "source": [
    "[dict(zip(header, customer)) for customer in customers]"
   ]
  }
 ],
 "metadata": {
  "kernelspec": {
   "display_name": "Python 3",
   "language": "python",
   "name": "python3"
  },
  "language_info": {
   "codemirror_mode": {
    "name": "ipython",
    "version": 3
   },
   "file_extension": ".py",
   "mimetype": "text/x-python",
   "name": "python",
   "nbconvert_exporter": "python",
   "pygments_lexer": "ipython3",
   "version": "3.7.2"
  }
 },
 "nbformat": 4,
 "nbformat_minor": 2
}

{
 "cells": [
  {
   "cell_type": "markdown",
   "metadata": {
    "slideshow": {
     "slide_type": "slide"
    }
   },
   "source": [
    "## Part III: Strings, Data structures, and Iteration"
   ]
  },
  {
   "cell_type": "markdown",
   "metadata": {
    "slideshow": {
     "slide_type": "slide"
    }
   },
   "source": [
    "#### Strings\n",
    "\n",
    "- immutable\n",
    "- sequences"
   ]
  },
  {
   "cell_type": "markdown",
   "metadata": {
    "slideshow": {
     "slide_type": "slide"
    }
   },
   "source": [
    "#### Immutable "
   ]
  },
  {
   "cell_type": "code",
   "execution_count": null,
   "metadata": {},
   "outputs": [],
   "source": [
    "fish = 'gold'\n",
    "fish += 'fish'\n",
    "print(fish)"
   ]
  },
  {
   "cell_type": "code",
   "execution_count": null,
   "metadata": {
    "slideshow": {
     "slide_type": "fragment"
    }
   },
   "outputs": [],
   "source": [
    "fish = 'gold'\n",
    "first_fish_id = id(fish)\n",
    "print(first_fish_id, fish)\n",
    "\n",
    "fish += 'fish'\n",
    "second_fish_id = id(fish)\n",
    "print(second_fish_id, fish)"
   ]
  },
  {
   "cell_type": "markdown",
   "metadata": {
    "slideshow": {
     "slide_type": "slide"
    }
   },
   "source": [
    "#### Formatting"
   ]
  },
  {
   "cell_type": "code",
   "execution_count": null,
   "metadata": {},
   "outputs": [],
   "source": [
    "species = 'Gray Parrots'\n",
    "max_age = 60\n",
    "min_age = 40\n",
    "\n",
    "simple = species + ' may live ' + str(min_age) + ' - ' + str(max_age) + ' years in captivity.'\n",
    "old_style = '%s may live %d - %d years in captivity.' % (species, min_age, max_age)\n",
    "new_style = '{0} may live {1} - {2} years in captivity.'.format(species, min_age, max_age)\n",
    "fstrings = f'{species} may live {min_age} - {max_age} years in captivity.' #Python 3\n",
    "\n",
    "print('simple:   ', simple)\n",
    "print('old style:', old_style)\n",
    "print('new style:', new_style)\n",
    "print('fstrings: ', fstrings)"
   ]
  },
  {
   "cell_type": "markdown",
   "metadata": {
    "slideshow": {
     "slide_type": "slide"
    }
   },
   "source": [
    "#### Format specifiers"
   ]
  },
  {
   "cell_type": "code",
   "execution_count": null,
   "metadata": {
    "slideshow": {
     "slide_type": "-"
    }
   },
   "outputs": [],
   "source": [
    "new_style = '{0} may live {1} - {2} years in captivity.'.format(species, min_age/7, max_age/9)\n",
    "fstrings = f'{species} may live {min_age/7} - {max_age/9} years in captivity.'\n",
    "print(new_style)\n",
    "print(fstrings)"
   ]
  },
  {
   "cell_type": "code",
   "execution_count": null,
   "metadata": {
    "slideshow": {
     "slide_type": "fragment"
    }
   },
   "outputs": [],
   "source": [
    "new_style = '{0} may live {1:.2f} - {2:.2f} years in captivity.'.format(species, min_age/7, max_age/9)\n",
    "fstrings = f'{species} may live {min_age/7:.2f} - {max_age/9:.2f} years in captivity.'\n",
    "print(new_style)\n",
    "print(fstrings)"
   ]
  },
  {
   "cell_type": "code",
   "execution_count": null,
   "metadata": {
    "slideshow": {
     "slide_type": "slide"
    }
   },
   "outputs": [],
   "source": [
    "from string import Template\n",
    "\n",
    "age_range = Template('$animal may live for $low - $high years in captivity.')\n",
    "age_range.substitute(animal=species, low=max_age, high=min_age)\n"
   ]
  },
  {
   "cell_type": "markdown",
   "metadata": {
    "slideshow": {
     "slide_type": "slide"
    }
   },
   "source": [
    "#### Slicing"
   ]
  },
  {
   "cell_type": "code",
   "execution_count": null,
   "metadata": {},
   "outputs": [],
   "source": [
    "inventory = \"Inventory:Month,Rabbits,Guinea Pigs,Hamsters\\njun,10,25,12\\njul,5,4,7\\naug,21,16,10\\n---\""
   ]
  },
  {
   "cell_type": "code",
   "execution_count": null,
   "metadata": {},
   "outputs": [],
   "source": [
    "print(inventory[10:])"
   ]
  },
  {
   "cell_type": "code",
   "execution_count": null,
   "metadata": {},
   "outputs": [],
   "source": [
    "pets = inventory[10:-3]\n",
    "print(pets)"
   ]
  },
  {
   "cell_type": "markdown",
   "metadata": {
    "slideshow": {
     "slide_type": "slide"
    }
   },
   "source": [
    "#### String Methods"
   ]
  },
  {
   "cell_type": "code",
   "execution_count": null,
   "metadata": {
    "slideshow": {
     "slide_type": "slide"
    }
   },
   "outputs": [],
   "source": [
    "pet_records = pets.split('\\n')\n",
    "print(pet_records)"
   ]
  },
  {
   "cell_type": "code",
   "execution_count": null,
   "metadata": {},
   "outputs": [],
   "source": [
    "pets.strip('\\n').split('\\n')"
   ]
  },
  {
   "cell_type": "raw",
   "metadata": {
    "slideshow": {
     "slide_type": "slide"
    }
   },
   "source": [
    "#### data structures\n",
    "\n",
    "- Lists\n",
    "- Tuples\n",
    "- Dictionaries\n",
    "- Sets"
   ]
  },
  {
   "cell_type": "markdown",
   "metadata": {
    "slideshow": {
     "slide_type": "slide"
    }
   },
   "source": [
    "#### data structures - tuples\n",
    "\n",
    "- immutable\n",
    "- store heterogeneous object types\n",
    "- enclosed in ()\n",
    "- trailing comma for 1 item tuples"
   ]
  },
  {
   "cell_type": "code",
   "execution_count": null,
   "metadata": {
    "slideshow": {
     "slide_type": "slide"
    }
   },
   "outputs": [],
   "source": [
    "fish = ('guppy', 'goldfish', 'angel')\n",
    "print(fish)"
   ]
  },
  {
   "cell_type": "code",
   "execution_count": null,
   "metadata": {},
   "outputs": [],
   "source": [
    "first_fish_id = id(fish)\n",
    "print(first_fish_id, fish)\n",
    "\n",
    "fish += ('koi',)\n",
    "second_fish_id = id(fish)\n",
    "print(second_fish_id, fish)"
   ]
  },
  {
   "cell_type": "markdown",
   "metadata": {
    "slideshow": {
     "slide_type": "slide"
    }
   },
   "source": [
    "#### tuple packing"
   ]
  },
  {
   "cell_type": "code",
   "execution_count": null,
   "metadata": {
    "slideshow": {
     "slide_type": "-"
    }
   },
   "outputs": [],
   "source": [
    "fish = 'guppy', 'goldfish', 'angel',\n",
    "print(fish)"
   ]
  },
  {
   "cell_type": "code",
   "execution_count": null,
   "metadata": {
    "slideshow": {
     "slide_type": "fragment"
    }
   },
   "outputs": [],
   "source": [
    "one_fish = ('koi')\n",
    "print(one_fish)"
   ]
  },
  {
   "cell_type": "code",
   "execution_count": null,
   "metadata": {},
   "outputs": [],
   "source": [
    "one_fish = 'koi',\n",
    "print(one_fish)"
   ]
  },
  {
   "cell_type": "markdown",
   "metadata": {
    "slideshow": {
     "slide_type": "slide"
    }
   },
   "source": [
    "#### sequence unpacking"
   ]
  },
  {
   "cell_type": "code",
   "execution_count": null,
   "metadata": {},
   "outputs": [],
   "source": [
    "fish_a, fish_b, fish_c = fish\n",
    "\n",
    "print(fish_a)\n",
    "print(fish_b)\n",
    "print(fish_c)"
   ]
  },
  {
   "cell_type": "code",
   "execution_count": null,
   "metadata": {},
   "outputs": [],
   "source": [
    "fisharray = list(fish)\n",
    "print(fisharray)"
   ]
  },
  {
   "cell_type": "code",
   "execution_count": null,
   "metadata": {},
   "outputs": [],
   "source": [
    "a,b,c = fisharray\n",
    "print(b)"
   ]
  },
  {
   "cell_type": "code",
   "execution_count": null,
   "metadata": {
    "slideshow": {
     "slide_type": "slide"
    }
   },
   "outputs": [],
   "source": [
    "a = 'first'\n",
    "b = 'second'\n",
    "a, b = b, a\n",
    "print(a, b)"
   ]
  },
  {
   "cell_type": "code",
   "execution_count": null,
   "metadata": {},
   "outputs": [],
   "source": [
    "#strings are also sequences\n",
    "a,b,c = 'koi'\n",
    "print(a)\n",
    "print(b)\n",
    "print(c)"
   ]
  },
  {
   "cell_type": "markdown",
   "metadata": {
    "slideshow": {
     "slide_type": "slide"
    }
   },
   "source": [
    "#### data structures - lists\n",
    "\n",
    "- mutable\n",
    "- store heterogeneous object types\n",
    "- enclosed in []\n",
    "- trailing comma isn't needed\n",
    "- zip"
   ]
  },
  {
   "cell_type": "code",
   "execution_count": null,
   "metadata": {
    "slideshow": {
     "slide_type": "slide"
    }
   },
   "outputs": [],
   "source": [
    "data = list(pets)\n",
    "first_data_id = id(data)\n",
    "print(first_data_id, data)\n",
    "\n",
    "data += ['box turtles']\n",
    "second_data_id = id(data)\n",
    "print(second_data_id, data)"
   ]
  },
  {
   "cell_type": "code",
   "execution_count": null,
   "metadata": {
    "slideshow": {
     "slide_type": "slide"
    }
   },
   "outputs": [],
   "source": [
    "data.append('milk snake')\n",
    "print(data)"
   ]
  },
  {
   "cell_type": "code",
   "execution_count": null,
   "metadata": {
    "slideshow": {
     "slide_type": "slide"
    }
   },
   "outputs": [],
   "source": [
    "data.extend(['finch', 'parrot'])\n",
    "print(data)\n",
    "data.sort()\n",
    "print(data)\n",
    "data.reverse()\n",
    "print(data)"
   ]
  },
  {
   "cell_type": "code",
   "execution_count": null,
   "metadata": {
    "slideshow": {
     "slide_type": "slide"
    }
   },
   "outputs": [],
   "source": [
    "popped = data.pop(len(data)-1)\n",
    "print(popped)\n",
    "print(data)\n",
    "data.insert(0, popped)\n",
    "print(data)"
   ]
  },
  {
   "cell_type": "markdown",
   "metadata": {
    "slideshow": {
     "slide_type": "slide"
    }
   },
   "source": [
    "The `deque` module in the `collections` package is more efficient"
   ]
  },
  {
   "cell_type": "code",
   "execution_count": null,
   "metadata": {},
   "outputs": [],
   "source": []
  },
  {
   "cell_type": "markdown",
   "metadata": {
    "slideshow": {
     "slide_type": "slide"
    }
   },
   "source": [
    "#### data structures - dictionaries\n",
    "\n",
    "- store heterogeneous object types\n",
    "- ordered in Python 3, unordered in Python 2\n",
    "- zip dict"
   ]
  },
  {
   "cell_type": "markdown",
   "metadata": {
    "slideshow": {
     "slide_type": "slide"
    }
   },
   "source": [
    "#### data structures - sets"
   ]
  },
  {
   "cell_type": "markdown",
   "metadata": {
    "slideshow": {
     "slide_type": "slide"
    }
   },
   "source": [
    "#### iteratation\n",
    "\n",
    "- for\n",
    "- enumerate\n",
    "- iterating over dictionaries"
   ]
  },
  {
   "cell_type": "markdown",
   "metadata": {
    "slideshow": {
     "slide_type": "slide"
    }
   },
   "source": [
    "#### list comprehensions"
   ]
  },
  {
   "cell_type": "markdown",
   "metadata": {
    "slideshow": {
     "slide_type": "slide"
    }
   },
   "source": [
    "#### set comprehensions"
   ]
  },
  {
   "cell_type": "markdown",
   "metadata": {
    "slideshow": {
     "slide_type": "slide"
    }
   },
   "source": [
    "### activity: Read over a text file and parse each record into a dictionary\n",
    "\n",
    "1. create an empty list called customers\n",
    "2. open customers.txt\n",
    "3. read the file using file.readlines()\n",
    "4. parse each line into a list using str.split() and append it to your customer list\n",
    "5. at this point you should have a list of lists.\n"
   ]
  },
  {
   "cell_type": "markdown",
   "metadata": {
    "slideshow": {
     "slide_type": "slide"
    }
   },
   "source": [
    "### Review:"
   ]
  },
  {
   "cell_type": "code",
   "execution_count": null,
   "metadata": {
    "slideshow": {
     "slide_type": "fragment"
    }
   },
   "outputs": [],
   "source": [
    "from pprint import pprint as pp"
   ]
  },
  {
   "cell_type": "code",
   "execution_count": null,
   "metadata": {
    "slideshow": {
     "slide_type": "fragment"
    }
   },
   "outputs": [],
   "source": [
    "customers = []\n",
    "header = []\n",
    "path = '/Users/cyrus/Documents/projects/codechix/code-chix-py-deck/customers.txt'\n",
    "\n",
    "with open(path, 'r') as f:\n",
    "    customer_records = f.readlines()\n",
    "    header = customer_records[0].strip().split('|')\n",
    "    for customer in customer_records[1:]:\n",
    "        customers.append(customer.strip().split('|'))\n",
    "pp(customers[0:2])"
   ]
  },
  {
   "cell_type": "code",
   "execution_count": null,
   "metadata": {
    "slideshow": {
     "slide_type": "slide"
    }
   },
   "outputs": [],
   "source": [
    "[{header[0]: customer[0], header[1]: customer[1]} for customer in customers[0:12]]"
   ]
  },
  {
   "cell_type": "code",
   "execution_count": null,
   "metadata": {
    "slideshow": {
     "slide_type": "slide"
    }
   },
   "outputs": [],
   "source": [
    "[dict(zip(header, customer)) for customer in customers[1:4]]"
   ]
  }
 ],
 "metadata": {
  "celltoolbar": "Slideshow",
  "kernelspec": {
   "display_name": "Python 3",
   "language": "python",
   "name": "python3"
  },
  "language_info": {
   "codemirror_mode": {
    "name": "ipython",
    "version": 3
   },
   "file_extension": ".py",
   "mimetype": "text/x-python",
   "name": "python",
   "nbconvert_exporter": "python",
   "pygments_lexer": "ipython3",
   "version": "3.7.2"
  }
 },
 "nbformat": 4,
 "nbformat_minor": 2
}

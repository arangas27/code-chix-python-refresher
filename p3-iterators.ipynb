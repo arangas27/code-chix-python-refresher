{
 "cells": [
  {
   "cell_type": "markdown",
   "metadata": {},
   "source": [
    "## Part III: Data structures and Iteration"
   ]
  },
  {
   "cell_type": "markdown",
   "metadata": {},
   "source": [
    "#### data structures\n",
    "\n",
    "- Tuples\n",
    "- Lists\n",
    "- Dictionaries\n",
    "- Sets"
   ]
  },
  {
   "cell_type": "markdown",
   "metadata": {},
   "source": [
    "#### data structures - lists\n",
    "\n",
    "- mutable\n",
    "- store heterogeneous object types\n",
    "- enclosed in []\n",
    "- trailing comma isn't needed\n",
    "- zip"
   ]
  },
  {
   "cell_type": "markdown",
   "metadata": {},
   "source": [
    "#### data structures - dictionaries\n",
    "\n",
    "- store heterogeneous object types\n",
    "- ordered in Python 3, unordered in Python 2\n",
    "- zip dict"
   ]
  },
  {
   "cell_type": "markdown",
   "metadata": {},
   "source": [
    "#### data structures - sets"
   ]
  },
  {
   "cell_type": "markdown",
   "metadata": {},
   "source": [
    "#### iteratation\n",
    "\n",
    "- for\n",
    "- enumerate\n",
    "- iterating over dictionaries"
   ]
  },
  {
   "cell_type": "markdown",
   "metadata": {},
   "source": [
    "#### list comprehensions"
   ]
  },
  {
   "cell_type": "markdown",
   "metadata": {},
   "source": [
    "#### set comprehensions"
   ]
  },
  {
   "cell_type": "markdown",
   "metadata": {
    "slideshow": {
     "slide_type": "slide"
    }
   },
   "source": [
    "### activity: Read over a text file and parse each record into a dictionary\n",
    "\n",
    "1. create an empty list called customers\n",
    "2. open customers.txt\n",
    "3. read the file using file.readlines()\n",
    "4. parse each line into a list using str.split() and append it to your customer list\n",
    "5. at this point you should have a list of lists.\n"
   ]
  },
  {
   "cell_type": "markdown",
   "metadata": {
    "slideshow": {
     "slide_type": "slide"
    }
   },
   "source": [
    "### Review:"
   ]
  },
  {
   "cell_type": "code",
   "execution_count": 4,
   "metadata": {
    "slideshow": {
     "slide_type": "fragment"
    }
   },
   "outputs": [],
   "source": [
    "from pprint import pprint as pp"
   ]
  },
  {
   "cell_type": "code",
   "execution_count": 5,
   "metadata": {
    "slideshow": {
     "slide_type": "fragment"
    }
   },
   "outputs": [
    {
     "name": "stdout",
     "output_type": "stream",
     "text": [
      "[['Chris Hemsworth', '-122.0891447521042', '37.38306796320479', '1'],\n",
      " ['Tom Hiddleston', '-122.11155012589451', '37.382287439185895', '0']]\n"
     ]
    }
   ],
   "source": [
    "customers = []\n",
    "header = []\n",
    "path = '/Users/cyrus/Documents/projects/codechix/code-chix-py-deck/customers.txt'\n",
    "\n",
    "with open(path, 'r') as f:\n",
    "    customer_records = f.readlines()\n",
    "    header = customer_records[0].strip().split('|')\n",
    "    for customer in customer_records[1:]:\n",
    "        customers.append(customer.strip().split('|'))\n",
    "pp(customers[0:2])"
   ]
  },
  {
   "cell_type": "code",
   "execution_count": 8,
   "metadata": {
    "slideshow": {
     "slide_type": "slide"
    }
   },
   "outputs": [
    {
     "data": {
      "text/plain": [
       "[{'name': 'Chris Hemsworth', 'easting': '-122.0891447521042'},\n",
       " {'name': 'Tom Hiddleston', 'easting': '-122.11155012589451'},\n",
       " {'name': 'Cate Blanchett', 'easting': '-122.08527416024843'},\n",
       " {'name': 'Idris Elba', 'easting': '-122.11025160902761'},\n",
       " {'name': 'Jeff Goldblum', 'easting': '-122.07792390001053'},\n",
       " {'name': 'Tessa Thompson', 'easting': '-122.11139052151503'},\n",
       " {'name': 'Karl Urban', 'easting': '-122.06411508588448'},\n",
       " {'name': 'Mark Ruffalo', 'easting': '-122.05739344543935'},\n",
       " {'name': 'Anthony Hopkins', 'easting': '-122.08801024942166'},\n",
       " {'name': 'Benedict Cumberbatch', 'easting': '-122.06681882213499'},\n",
       " {'name': 'Taika Waititi', 'easting': '-122.10187385204671'},\n",
       " {'name': 'Rachel House', 'easting': '-122.0974821911463'}]"
      ]
     },
     "execution_count": 8,
     "metadata": {},
     "output_type": "execute_result"
    }
   ],
   "source": [
    "[{header[0]: customer[0], header[1]: customer[1]} for customer in customers[0:12]]"
   ]
  },
  {
   "cell_type": "code",
   "execution_count": 7,
   "metadata": {
    "slideshow": {
     "slide_type": "slide"
    }
   },
   "outputs": [
    {
     "data": {
      "text/plain": [
       "[{'name': 'Tom Hiddleston',\n",
       "  'easting': '-122.11155012589451',\n",
       "  'northing': '37.382287439185895',\n",
       "  'petcount': '0'},\n",
       " {'name': 'Cate Blanchett',\n",
       "  'easting': '-122.08527416024843',\n",
       "  'northing': '37.419265308573486',\n",
       "  'petcount': '5'},\n",
       " {'name': 'Idris Elba',\n",
       "  'easting': '-122.11025160902761',\n",
       "  'northing': '37.39175227083283',\n",
       "  'petcount': '4'}]"
      ]
     },
     "execution_count": 7,
     "metadata": {},
     "output_type": "execute_result"
    }
   ],
   "source": [
    "[dict(zip(header, customer)) for customer in customers[1:4]]"
   ]
  }
 ],
 "metadata": {
  "celltoolbar": "Slideshow",
  "kernelspec": {
   "display_name": "Python 3",
   "language": "python",
   "name": "python3"
  },
  "language_info": {
   "codemirror_mode": {
    "name": "ipython",
    "version": 3
   },
   "file_extension": ".py",
   "mimetype": "text/x-python",
   "name": "python",
   "nbconvert_exporter": "python",
   "pygments_lexer": "ipython3",
   "version": "3.7.2"
  }
 },
 "nbformat": 4,
 "nbformat_minor": 2
}

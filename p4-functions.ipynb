{
 "cells": [
  {
   "cell_type": "markdown",
   "metadata": {
    "slideshow": {
     "slide_type": "slide"
    }
   },
   "source": [
    "## Part VI: Functions\n",
    "\n",
    "  - basic function syntax\n",
    "  - arguments - positional and named\n",
    "  - args and kwargs\n",
    "  - main\n",
    "  - Our activity will cover reading files, so we will briefly\n",
    "   cover file i/o and using 'with' to create a context\n",
    "  Activity 1: Participants will write two functions one that reads data from a csv and a second function that calculates the cartesian distance between two pairs of coordinates"
   ]
  },
  {
   "cell_type": "code",
   "execution_count": null,
   "metadata": {
    "slideshow": {
     "slide_type": "slide"
    }
   },
   "outputs": [],
   "source": [
    "def add_numbers(x, y):\n",
    "    return x + y\n",
    "\n",
    "add_numbers(22, 20)"
   ]
  },
  {
   "cell_type": "markdown",
   "metadata": {
    "slideshow": {
     "slide_type": "slide"
    }
   },
   "source": [
    "#### Returning multiple values"
   ]
  },
  {
   "cell_type": "code",
   "execution_count": null,
   "metadata": {
    "slideshow": {
     "slide_type": "fragment"
    }
   },
   "outputs": [],
   "source": [
    "def get_descriptive_stats(numbers):\n",
    "    return min(numbers), max(numbers), sum(numbers)/len(numbers)\n",
    "\n",
    "get_descriptive_stats([1,2,3,4,5])"
   ]
  },
  {
   "cell_type": "code",
   "execution_count": null,
   "metadata": {
    "slideshow": {
     "slide_type": "fragment"
    }
   },
   "outputs": [],
   "source": [
    "minimum, maximum, mean = descriptives(range(5))\n",
    "\n",
    "print('min: {0}\\nmax: {1}\\naverage: {2}\\n'.format(minimum, maximum, mean))"
   ]
  },
  {
   "cell_type": "markdown",
   "metadata": {
    "slideshow": {
     "slide_type": "slide"
    }
   },
   "source": [
    "#### Closures"
   ]
  },
  {
   "cell_type": "code",
   "execution_count": null,
   "metadata": {
    "scrolled": true,
    "slideshow": {
     "slide_type": "fragment"
    }
   },
   "outputs": [],
   "source": [
    "def get_fn():\n",
    "    x = 21\n",
    "\n",
    "    def add_numbers(y):\n",
    "        return x + y\n",
    "    return add_numbers\n",
    "\n",
    "ff = get_fn()\n",
    "print(ff(2))"
   ]
  },
  {
   "cell_type": "markdown",
   "metadata": {
    "slideshow": {
     "slide_type": "slide"
    }
   },
   "source": [
    "#### Positional and Default Arguments"
   ]
  },
  {
   "cell_type": "code",
   "execution_count": null,
   "metadata": {
    "slideshow": {
     "slide_type": "fragment"
    }
   },
   "outputs": [],
   "source": [
    "def add_numbers(x, y=\"7\"):\n",
    "    pass\n",
    "\n",
    "def add_numbers(x=\"2\", y=\"7\"):\n",
    "    pass"
   ]
  },
  {
   "cell_type": "code",
   "execution_count": null,
   "metadata": {
    "slideshow": {
     "slide_type": "fragment"
    }
   },
   "outputs": [],
   "source": [
    "def add_numbers(x=\"2\", y):\n",
    "    pass"
   ]
  },
  {
   "cell_type": "markdown",
   "metadata": {
    "slideshow": {
     "slide_type": "slide"
    }
   },
   "source": [
    "#### Argument Lists and Keyword Arguments\n",
    "\n",
    "`*` Converts positional arguments to a list (args) <br>\n",
    "`**` Converts named (default) arguments to a dictionary (kwargs)"
   ]
  },
  {
   "cell_type": "code",
   "execution_count": null,
   "metadata": {
    "slideshow": {
     "slide_type": "fragment"
    }
   },
   "outputs": [],
   "source": [
    "def add_numbers(*args, **kwargs):\n",
    "    return args, kwargs"
   ]
  },
  {
   "cell_type": "code",
   "execution_count": null,
   "metadata": {
    "slideshow": {
     "slide_type": "slide"
    }
   },
   "outputs": [],
   "source": [
    "def add_numbers(*args):\n",
    "    print(\"a list of arguments:\", args)\n",
    "    return sum(args)\n",
    "\n",
    "add_numbers(1,2,3)"
   ]
  },
  {
   "cell_type": "code",
   "execution_count": null,
   "metadata": {
    "slideshow": {
     "slide_type": "slide"
    }
   },
   "outputs": [],
   "source": [
    "def sum_inventory(**kwargs):\n",
    "    print(kwargs.items())\n",
    "    return sum(v for k, v in iter(kwargs.items()))\n",
    "\n",
    "add_numbers(parakeets=1, parrots=2, macaws=3)"
   ]
  },
  {
   "cell_type": "code",
   "execution_count": null,
   "metadata": {
    "slideshow": {
     "slide_type": "fragment"
    }
   },
   "outputs": [],
   "source": [
    "def sum_inventory(*args, **kwargs):\n",
    "    print(args, kwargs)\n",
    "\n",
    "sum_inventory(1,2,3, finches=5, macaws=22)    \n",
    "    \n",
    "def sum_inventory(*mammals, **birds):\n",
    "    return mammals, birds"
   ]
  },
  {
   "cell_type": "markdown",
   "metadata": {
    "slideshow": {
     "slide_type": "slide"
    }
   },
   "source": [
    "#### Passing kwargs to the string format method:"
   ]
  },
  {
   "cell_type": "code",
   "execution_count": null,
   "metadata": {},
   "outputs": [],
   "source": [
    "table = {'rabbits': 12.2, 'parrots': 14/3, 'goldfish': 125.7}\n",
    "print('Rabbits: {rabbits:.1f}, Parrots: {parrots:.2f}, Goldfish: {goldfish:.3f}'.format(**table))"
   ]
  },
  {
   "cell_type": "markdown",
   "metadata": {
    "slideshow": {
     "slide_type": "slide"
    }
   },
   "source": [
    "#### Activity: Write two functions\n",
    "\n",
    "1. One to read customers.txt and return a list of dictionaries.\n",
    "    It should take a path and a delimeter as arguments   \n",
    "      \n",
    "    \n",
    "2. One to calculate the distance between two pairs of coordinates.    \n",
    "    Example coordiantes:  \n",
    "```\n",
    "start={'easting': -122.5, 'northing': 37.51}\n",
    "end={'easting': -122.55, 'northing': 37.56}\n",
    "```\n",
    "    Here's the distance equation:\n",
    "```\n",
    "math.sqrt(((x1-x2)**2) + ((y1-y2)**2))\n",
    "```"
   ]
  },
  {
   "cell_type": "raw",
   "metadata": {
    "slideshow": {
     "slide_type": "slide"
    }
   },
   "source": [
    "### Review"
   ]
  },
  {
   "cell_type": "code",
   "execution_count": null,
   "metadata": {},
   "outputs": [],
   "source": [
    "path = '/Users/cyrus/Documents/projects/codechix/code-chix-py-deck/customers.txt'\n",
    "\n",
    "def parse_csv(path, delimiter='|'):\n",
    "    with open(path, 'r') as f:\n",
    "        lines = f.readlines()\n",
    "        header = lines[0].strip().split(delimiter)\n",
    "        records = [\n",
    "            line.strip().split(delimiter) for line in lines[1:]\n",
    "            ]\n",
    "\n",
    "    res = [\n",
    "        dict(zip(header, record)) for record in records\n",
    "        ]\n",
    "    return res\n",
    "\n",
    "records = parse_csv(path)"
   ]
  },
  {
   "cell_type": "code",
   "execution_count": null,
   "metadata": {
    "slideshow": {
     "slide_type": "slide"
    }
   },
   "outputs": [],
   "source": [
    "print(records[0])"
   ]
  },
  {
   "cell_type": "code",
   "execution_count": 141,
   "metadata": {
    "slideshow": {
     "slide_type": "slide"
    }
   },
   "outputs": [],
   "source": [
    "import math\n",
    "\n",
    "def calc_distance(start, end={'easting': -122.5, 'northing': 37.56}):\n",
    "    x1, x2 = start['easting'], end['easting']\n",
    "    y1, y2 = start['northing'], end['northing']\n",
    "    res = math.sqrt(\n",
    "        ((x1-x2)**2) + ((y1-y2)**2)\n",
    "    )\n",
    "    return res"
   ]
  },
  {
   "cell_type": "code",
   "execution_count": 142,
   "metadata": {
    "slideshow": {
     "slide_type": "slide"
    }
   },
   "outputs": [
    {
     "name": "stdout",
     "output_type": "stream",
     "text": [
      "dist in degrees: 0.05000000000000426\n",
      "dist in km: 4.162500000000355\n"
     ]
    }
   ],
   "source": [
    "start={'easting': -122.5, 'northing': 37.51}\n",
    "dist = calc_distance(start)\n",
    "print('dist in degrees:', dist)\n",
    "\n",
    "degree_in_km_at_equator = 111\n",
    "longitude_ratio_at_lat_37 = 0.75\n",
    "km_dist = longitude_ratio_at_lat_37 * degree_in_km_at_equator * res\n",
    "print('dist in km:', km_dist)"
   ]
  }
 ],
 "metadata": {
  "celltoolbar": "Slideshow",
  "kernelspec": {
   "display_name": "Python 3",
   "language": "python",
   "name": "python3"
  },
  "language_info": {
   "codemirror_mode": {
    "name": "ipython",
    "version": 3
   },
   "file_extension": ".py",
   "mimetype": "text/x-python",
   "name": "python",
   "nbconvert_exporter": "python",
   "pygments_lexer": "ipython3",
   "version": "3.7.2"
  }
 },
 "nbformat": 4,
 "nbformat_minor": 2
}

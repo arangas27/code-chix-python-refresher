{
 "cells": [
  {
   "cell_type": "markdown",
   "metadata": {
    "slideshow": {
     "slide_type": "slide"
    }
   },
   "source": [
    "## Part VI: Functions\n",
    "\n",
    "  - basic function syntax\n",
    "  - arguments - positional and named\n",
    "  - args and kwargs\n",
    "  - main\n",
    "  - Our activity will cover reading files, so we will briefly\n",
    "   cover file i/o and using 'with' to create a context\n",
    "  Activity 1: Participants will write two functions one that reads data from a csv and a second function that calculates the cartesian distance between two pairs of coordinates"
   ]
  },
  {
   "cell_type": "code",
   "execution_count": null,
   "metadata": {
    "slideshow": {
     "slide_type": "slide"
    }
   },
   "outputs": [],
   "source": [
    "def add_numbers(x, y):\n",
    "    return x + y\n",
    "\n",
    "add_numbers(22, 20)"
   ]
  },
  {
   "cell_type": "markdown",
   "metadata": {
    "slideshow": {
     "slide_type": "slide"
    }
   },
   "source": [
    "#### Returning multiple values"
   ]
  },
  {
   "cell_type": "code",
   "execution_count": null,
   "metadata": {
    "slideshow": {
     "slide_type": "fragment"
    }
   },
   "outputs": [],
   "source": [
    "def get_descriptive_stats(numbers):\n",
    "    return min(numbers), max(numbers), sum(numbers)/len(numbers)\n",
    "\n",
    "get_descriptive_stats([1,2,3,4,5])"
   ]
  },
  {
   "cell_type": "code",
   "execution_count": null,
   "metadata": {
    "slideshow": {
     "slide_type": "fragment"
    }
   },
   "outputs": [],
   "source": [
    "minimum, maximum, mean = descriptives(range(5))\n",
    "\n",
    "print('min: {0}\\nmax: {1}\\naverage: {2}\\n'.format(minimum, maximum, mean))"
   ]
  },
  {
   "cell_type": "markdown",
   "metadata": {
    "slideshow": {
     "slide_type": "slide"
    }
   },
   "source": [
    "#### Closures"
   ]
  },
  {
   "cell_type": "code",
   "execution_count": null,
   "metadata": {
    "scrolled": true,
    "slideshow": {
     "slide_type": "fragment"
    }
   },
   "outputs": [],
   "source": [
    "def get_fn():\n",
    "    x = 21\n",
    "\n",
    "    def add_numbers(y):\n",
    "        return x + y\n",
    "    return add_numbers\n",
    "\n",
    "ff = get_fn()\n",
    "print(ff(2))"
   ]
  },
  {
   "cell_type": "markdown",
   "metadata": {
    "slideshow": {
     "slide_type": "slide"
    }
   },
   "source": [
    "#### Positional and Default Arguments"
   ]
  },
  {
   "cell_type": "code",
   "execution_count": null,
   "metadata": {
    "slideshow": {
     "slide_type": "fragment"
    }
   },
   "outputs": [],
   "source": [
    "def add_numbers(x, y=\"7\"):\n",
    "    pass\n",
    "\n",
    "def add_numbers(x=\"2\", y=\"7\"):\n",
    "    pass"
   ]
  },
  {
   "cell_type": "code",
   "execution_count": null,
   "metadata": {
    "slideshow": {
     "slide_type": "fragment"
    }
   },
   "outputs": [],
   "source": [
    "def add_numbers(x=\"2\", y):\n",
    "    pass"
   ]
  },
  {
   "cell_type": "markdown",
   "metadata": {
    "slideshow": {
     "slide_type": "slide"
    }
   },
   "source": [
    "#### Argument Lists and Keyword Arguments\n",
    "\n",
    "`*` Converts positional arguments to a list (args) <br>\n",
    "`**` Converts named (default) arguments to a dictionary (kwargs)"
   ]
  },
  {
   "cell_type": "code",
   "execution_count": null,
   "metadata": {
    "slideshow": {
     "slide_type": "fragment"
    }
   },
   "outputs": [],
   "source": [
    "def add_numbers(*args, **kwargs):\n",
    "    return args, kwargs"
   ]
  },
  {
   "cell_type": "code",
   "execution_count": null,
   "metadata": {
    "slideshow": {
     "slide_type": "slide"
    }
   },
   "outputs": [],
   "source": [
    "def add_numbers(*args):\n",
    "    print(\"a list of arguments:\", args)\n",
    "    return sum(args)\n",
    "\n",
    "add_numbers(1,2,3)"
   ]
  },
  {
   "cell_type": "code",
   "execution_count": null,
   "metadata": {
    "slideshow": {
     "slide_type": "slide"
    }
   },
   "outputs": [],
   "source": [
    "def sum_inventory(**kwargs):\n",
    "    print(kwargs.items())\n",
    "    return sum(v for k, v in iter(kwargs.items()))\n",
    "\n",
    "add_numbers(parakeets=1, parrots=2, macaws=3)"
   ]
  },
  {
   "cell_type": "code",
   "execution_count": null,
   "metadata": {
    "slideshow": {
     "slide_type": "fragment"
    }
   },
   "outputs": [],
   "source": [
    "def sum_inventory(*args, **kwargs):\n",
    "    print(args, kwargs)\n",
    "\n",
    "sum_inventory(1,2,3, finches=5, macaws=22)    \n",
    "    \n",
    "def sum_inventory(*mammals, **birds):\n",
    "    return mammals, birds"
   ]
  },
  {
   "cell_type": "markdown",
   "metadata": {
    "slideshow": {
     "slide_type": "slide"
    }
   },
   "source": [
    "#### Passing kwargs to the string format method:"
   ]
  },
  {
   "cell_type": "code",
   "execution_count": null,
   "metadata": {},
   "outputs": [],
   "source": [
    "table = {'rabbits': 12.2, 'parrots': 14/3, 'goldfish': 125.7}\n",
    "print('Rabbits: {rabbits:.1f}, Parrots: {parrots:.2f}, Goldfish: {goldfish:.3f}'.format(**table))"
   ]
  },
  {
   "cell_type": "markdown",
   "metadata": {
    "slideshow": {
     "slide_type": "slide"
    }
   },
   "source": [
    "### Activity 2:\n",
    "\n",
    "1. One to read customers.txt and return a list of dictionaries.\n",
    "    It should take a path and a delimeter as arguments   \n",
    "      \n",
    "2. One to that takes a string as an argument. If the string can be converted to float, the function should return a float, otherwise is should just return the string."
   ]
  },
  {
   "cell_type": "markdown",
   "metadata": {},
   "source": [
    "Hint for part 2: \n",
    "\n",
    "    try:  \n",
    "    except ValueError as e:"
   ]
  },
  {
   "cell_type": "markdown",
   "metadata": {
    "slideshow": {
     "slide_type": "slide"
    }
   },
   "source": [
    "### Review"
   ]
  },
  {
   "cell_type": "code",
   "execution_count": null,
   "metadata": {},
   "outputs": [],
   "source": [
    "path = '/Users/cyrus/Documents/projects/codechix/code-chix-py-deck/customers.txt'\n",
    "\n",
    "def parse_csv(path, delimiter='|'):\n",
    "    with open(path, 'r') as f:\n",
    "        lines = f.readlines()\n",
    "        header = lines[0].strip().split(delimiter)\n",
    "        records = [\n",
    "            line.strip().split(delimiter) for line in lines[1:]\n",
    "            ]\n",
    "\n",
    "    res = [\n",
    "        dict(zip(header, record)) for record in records\n",
    "        ]\n",
    "    return res\n",
    "\n",
    "records = parse_csv(path)\n",
    "\n",
    "print(records[0])"
   ]
  },
  {
   "cell_type": "code",
   "execution_count": null,
   "metadata": {
    "slideshow": {
     "slide_type": "slide"
    }
   },
   "outputs": [],
   "source": [
    "def format_num(val):\n",
    "    try:\n",
    "        return float(val)\n",
    "    except ValueError as e:\n",
    "        return val\n",
    "    \n",
    "format_num('cat')"
   ]
  },
  {
   "cell_type": "code",
   "execution_count": null,
   "metadata": {},
   "outputs": [],
   "source": [
    "for record in records: print(record)"
   ]
  },
  {
   "cell_type": "markdown",
   "metadata": {
    "slideshow": {
     "slide_type": "slide"
    }
   },
   "source": [
    "#### Generators"
   ]
  },
  {
   "cell_type": "code",
   "execution_count": 1,
   "metadata": {},
   "outputs": [],
   "source": [
    "def create_records_generator(start, end):\n",
    "    while start < end:\n",
    "        start += 1\n",
    "        yield start\n",
    "\n",
    "\n",
    "def create_records_array(start, end):\n",
    "    res = []\n",
    "    while start < end:\n",
    "        start += 1\n",
    "        res.append(start)\n",
    "    return res"
   ]
  },
  {
   "cell_type": "code",
   "execution_count": 2,
   "metadata": {
    "slideshow": {
     "slide_type": "slide"
    }
   },
   "outputs": [
    {
     "name": "stdout",
     "output_type": "stream",
     "text": [
      "from generator 10000000\n",
      "from generator 20000000\n",
      "from generator 30000000\n",
      "from generator 40000000\n",
      "from generator 50000000\n",
      "from generator 60000000\n",
      "from generator 70000000\n",
      "from generator 80000000\n",
      "from generator 90000000\n",
      "from generator 100000000\n",
      "from array 10000000\n",
      "from array 20000000\n",
      "from array 30000000\n",
      "from array 40000000\n",
      "from array 50000000\n",
      "from array 60000000\n",
      "from array 70000000\n",
      "from array 80000000\n",
      "from array 90000000\n",
      "from array 100000000\n"
     ]
    }
   ],
   "source": [
    "generator = create_records_generator(3, 100000000)\n",
    "for x in generator:\n",
    "    if x % 10000000 == 0:\n",
    "        print('from generator', x)\n",
    "\n",
    "array = create_records_array(3, 100000000)\n",
    "for n in array:\n",
    "    if n % 10000000 == 0:\n",
    "        print('from array', n)"
   ]
  },
  {
   "cell_type": "markdown",
   "metadata": {
    "slideshow": {
     "slide_type": "slide"
    }
   },
   "source": [
    "#### Generator Expressions"
   ]
  },
  {
   "cell_type": "code",
   "execution_count": null,
   "metadata": {},
   "outputs": [],
   "source": [
    "list_comp = [letter.upper() for letter in 'Pollys Pet Supply']\n",
    "gener_exp = (letter.upper() for letter in 'Pollys Pet Supply')\n",
    "\n",
    "print(list_comp)\n",
    "print(gener_exp)"
   ]
  },
  {
   "cell_type": "markdown",
   "metadata": {
    "slideshow": {
     "slide_type": "slide"
    }
   },
   "source": [
    "If generators require less memory than lists, why not always use generators?\n",
    "\n",
    "- lists should be used when you are iterating multiple times over the list (because they are cached).\n",
    "- lists are needed when you need to access items out of order"
   ]
  },
  {
   "cell_type": "markdown",
   "metadata": {
    "slideshow": {
     "slide_type": "slide"
    }
   },
   "source": [
    "### Activity 3:\n",
    "\n",
    "1. Update your parse_csv function to return a generator expression rather than a list  \n",
    "2. Write a function that calculates the distance between a store location and a customer"
   ]
  },
  {
   "cell_type": "code",
   "execution_count": null,
   "metadata": {
    "slideshow": {
     "slide_type": "-"
    }
   },
   "outputs": [],
   "source": [
    "from haversine import haversine\n",
    "\n",
    "store_location = (37.51, -122.5)\n",
    "customer = {'easting': -122.5, 'northing': 37.56}\n",
    "units='km'\n",
    "\n",
    "# distance = haversine((y, x), (y,x), unit=units)\n",
    "\n",
    "def calc_distance(store_location, customer, units):\n",
    "    ...\n",
    "    customer['distance'] = distance\n",
    "    return customer"
   ]
  },
  {
   "cell_type": "markdown",
   "metadata": {
    "slideshow": {
     "slide_type": "slide"
    }
   },
   "source": [
    "### Review"
   ]
  },
  {
   "cell_type": "code",
   "execution_count": null,
   "metadata": {},
   "outputs": [],
   "source": [
    "def parse_csv(path, delimiter='|'):\n",
    "    with open(path, 'r') as f:\n",
    "        lines = f.readlines()\n",
    "        header = lines[0].strip().split(delimiter)\n",
    "        records = (\n",
    "            line.strip().split(delimiter) for line in lines[1:]\n",
    "        )\n",
    "\n",
    "    res = (\n",
    "        dict(zip(header, [format_num(r) for r in record])) for record in records\n",
    "        )\n",
    "    return res\n",
    "\n",
    "records = parse_csv(path)"
   ]
  },
  {
   "cell_type": "code",
   "execution_count": null,
   "metadata": {
    "slideshow": {
     "slide_type": "slide"
    }
   },
   "outputs": [],
   "source": [
    "from haversine import haversine\n",
    "\n",
    "store_location = ([37.385,-122.089])\n",
    "customer_location = {'easting': -122.5, 'northing': 37.56}\n",
    "units='km'\n",
    "\n",
    "def calc_distance(store_location, customer, units):\n",
    "    cust_y, cust_x = customer['northing'], customer['easting']\n",
    "    distance = haversine(store_location, (cust_y, cust_x), unit=units)\n",
    "    customer['distance'] = distance\n",
    "    return customer"
   ]
  },
  {
   "cell_type": "code",
   "execution_count": null,
   "metadata": {
    "scrolled": true,
    "slideshow": {
     "slide_type": "slide"
    }
   },
   "outputs": [],
   "source": [
    "calc_distance(store_location=store_location, customer=customer_location,  units='km')"
   ]
  },
  {
   "cell_type": "code",
   "execution_count": null,
   "metadata": {},
   "outputs": [],
   "source": [
    "for rec in parse_csv(path):\n",
    "    rec = calc_distance(store_location=(37.51, -122.5), customer=rec, units='km')\n",
    "    pp(rec)"
   ]
  },
  {
   "cell_type": "markdown",
   "metadata": {
    "slideshow": {
     "slide_type": "slide"
    }
   },
   "source": [
    "#### Decorators"
   ]
  },
  {
   "cell_type": "code",
   "execution_count": null,
   "metadata": {},
   "outputs": [],
   "source": [
    "def get_string(a_string):\n",
    "    return a_string\n",
    "\n",
    "get_string('koi')"
   ]
  },
  {
   "cell_type": "code",
   "execution_count": null,
   "metadata": {
    "slideshow": {
     "slide_type": "fragment"
    }
   },
   "outputs": [],
   "source": [
    "def upper_case(func):\n",
    "    @functools.wraps(func)\n",
    "    def wrapper(*args, **kwargs):\n",
    "        get_string_res = func(*args, **kwargs)\n",
    "        return get_string_res.upper()  \n",
    "    return wrapper"
   ]
  },
  {
   "cell_type": "code",
   "execution_count": null,
   "metadata": {
    "slideshow": {
     "slide_type": "fragment"
    }
   },
   "outputs": [],
   "source": [
    "@upper_case\n",
    "def get_string(a_string):\n",
    "    return a_string\n",
    "\n",
    "get_string('mouse')"
   ]
  },
  {
   "cell_type": "code",
   "execution_count": null,
   "metadata": {
    "slideshow": {
     "slide_type": "slide"
    }
   },
   "outputs": [],
   "source": [
    "import logging\n",
    "          \n",
    "def log_type_error(func):\n",
    "    @functools.wraps(func)\n",
    "    def wrapper(*args, **kwargs):\n",
    "        try:\n",
    "            concatenated = func(*args, **kwargs)\n",
    "            return concatenated \n",
    "        except TypeError as e:\n",
    "            logging.error(\"{0} error: {1}\".format(func.__name__, e))\n",
    "    return wrapper\n",
    "\n",
    "@log_type_error\n",
    "def concat_strings(*somewords):\n",
    "    res = (' ').join(somewords)  \n",
    "    return res            \n",
    "\n",
    "res = concat_strings('polly\\'s', 'pet', 'shop')\n",
    "print(res)\n",
    "\n",
    "res = concat_strings(7, 2)       \n",
    "print(res)"
   ]
  },
  {
   "cell_type": "markdown",
   "metadata": {
    "slideshow": {
     "slide_type": "slide"
    }
   },
   "source": [
    "### Activity 4: Write a decorator function that truncates a string down to 6 letters"
   ]
  },
  {
   "cell_type": "code",
   "execution_count": null,
   "metadata": {},
   "outputs": [],
   "source": [
    "@abbreviate\n",
    "def get_string(some_string):\n",
    "    return some_string\n",
    "\n",
    "get_string('Guinea Pig')"
   ]
  },
  {
   "cell_type": "code",
   "execution_count": null,
   "metadata": {
    "slideshow": {
     "slide_type": "-"
    }
   },
   "outputs": [],
   "source": [
    "def upper_case(func):\n",
    "    @functools.wraps(func)\n",
    "    def wrapper(*args, **kwargs):\n",
    "        get_string_res = func(*args, **kwargs)\n",
    "        return get_string_res.upper()  \n",
    "    return wrapper"
   ]
  },
  {
   "cell_type": "markdown",
   "metadata": {
    "slideshow": {
     "slide_type": "slide"
    }
   },
   "source": [
    "### Review"
   ]
  },
  {
   "cell_type": "code",
   "execution_count": null,
   "metadata": {
    "slideshow": {
     "slide_type": "-"
    }
   },
   "outputs": [],
   "source": [
    "def abbreviate(func):\n",
    "    @functools.wraps(func)\n",
    "    def wrapper(*args, **kwargs):\n",
    "        get_string_res = func(*args, **kwargs)\n",
    "        return '{0} ...'.format(get_string_res[0:6]) \n",
    "    return wrapper"
   ]
  },
  {
   "cell_type": "code",
   "execution_count": null,
   "metadata": {
    "slideshow": {
     "slide_type": "-"
    }
   },
   "outputs": [],
   "source": [
    "@abbreviate\n",
    "def get_string(some_string):\n",
    "    return some_string\n",
    "\n",
    "get_string('Pet Supply')"
   ]
  },
  {
   "cell_type": "code",
   "execution_count": null,
   "metadata": {
    "slideshow": {
     "slide_type": "slide"
    }
   },
   "outputs": [],
   "source": [
    "import functools\n",
    "\n",
    "def make_geojson(func):\n",
    "    @functools.wraps(func)\n",
    "    def wrapper_convert_to_json(**kwargs):\n",
    "        details = func(**kwargs)\n",
    "        feature = {\n",
    "          \"type\": \"Feature\",\n",
    "          \"properties\": {},\n",
    "          \"geometry\": {\n",
    "            \"type\": \"Point\",\n",
    "            \"coordinates\": [\n",
    "                details['easting'],\n",
    "                details['northing']\n",
    "            ]\n",
    "          }\n",
    "        }\n",
    "        feature['properties'] = details\n",
    "        return feature\n",
    "    return wrapper_convert_to_json"
   ]
  },
  {
   "cell_type": "code",
   "execution_count": null,
   "metadata": {
    "slideshow": {
     "slide_type": "slide"
    }
   },
   "outputs": [],
   "source": [
    "@make_geojson\n",
    "def calc_distance(customer={}, store_location=(37.51, -122.5), units='km'):\n",
    "    cust_y, cust_x = customer['northing'], customer['easting']\n",
    "    distance = haversine(store_location, (cust_y, cust_x), unit=units)\n",
    "    customer['distance'] = distance\n",
    "    return customer\n",
    "\n",
    "features = []\n",
    "for rec in parse_csv(path):\n",
    "    rec = calc_distance(customer=rec, store_location=(37.51, -122.5), units='km')\n",
    "    features.append(rec)\n",
    "    \n",
    "print(features[0])\n",
    "\n",
    "for f in sorted(features, key=lambda k: (k['petcount'], k['distance'])):\n",
    "    print('{0:.2f}, {1}'.format(f['distance'], f['petcount']))"
   ]
  },
  {
   "cell_type": "code",
   "execution_count": 422,
   "metadata": {},
   "outputs": [],
   "source": [
    "import json\n",
    "import folium\n",
    "\n",
    "def map_results(center, features=[], output='map.html'):\n",
    "    \n",
    "    fc = {\n",
    "          \"type\": \"FeatureCollection\",\n",
    "          \"features\": features\n",
    "        }\n",
    "    \n",
    "    points = json.dumps(fc)\n",
    "\n",
    "    m = folium.Map(\n",
    "        location=center,\n",
    "        tiles='OpenStreetMap',\n",
    "        zoom_start=14\n",
    "    )\n",
    "    \n",
    "    folium.GeoJson(\n",
    "        points,\n",
    "        name='geojson'\n",
    "    ).add_to(m)\n",
    "\n",
    "    folium.LayerControl().add_to(m)\n",
    "    m.save(output)\n",
    "    return m\n",
    "    \n",
    "m = map_results(store_location, features)"
   ]
  },
  {
   "cell_type": "code",
   "execution_count": null,
   "metadata": {},
   "outputs": [],
   "source": [
    "m"
   ]
  },
  {
   "cell_type": "markdown",
   "metadata": {},
   "source": [
    "https://python-visualization.github.io/folium/quickstart.html#Markers"
   ]
  },
  {
   "cell_type": "code",
   "execution_count": null,
   "metadata": {},
   "outputs": [],
   "source": [
    "def main():\n",
    "    path = os.path.join(os.getcwd(), 'customers.txt')\n",
    "    store_location = (37.385, -122.089)\n",
    "    features = []\n",
    "    for rec in parse_csv(path):\n",
    "        rec = calc_distance(customer=rec, store_location=store_location, units='km')\n",
    "        features.append(rec)\n",
    "\n",
    "    m = map_results(store_location, features)"
   ]
  },
  {
   "cell_type": "code",
   "execution_count": null,
   "metadata": {},
   "outputs": [],
   "source": [
    "if __name__ == '__main__':\n",
    "    main()"
   ]
  }
 ],
 "metadata": {
  "celltoolbar": "Slideshow",
  "kernelspec": {
   "display_name": "Python 3",
   "language": "python",
   "name": "python3"
  },
  "language_info": {
   "codemirror_mode": {
    "name": "ipython",
    "version": 3
   },
   "file_extension": ".py",
   "mimetype": "text/x-python",
   "name": "python",
   "nbconvert_exporter": "python",
   "pygments_lexer": "ipython3",
   "version": "3.7.2"
  }
 },
 "nbformat": 4,
 "nbformat_minor": 2
}

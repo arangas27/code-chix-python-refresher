{
 "cells": [
  {
   "cell_type": "markdown",
   "metadata": {
    "slideshow": {
     "slide_type": "slide"
    }
   },
   "source": [
    "## Part III: Strings, Data structures, and Iteration"
   ]
  },
  {
   "cell_type": "markdown",
   "metadata": {
    "slideshow": {
     "slide_type": "slide"
    }
   },
   "source": [
    "#### Strings\n",
    "\n",
    "- formatting\n",
    "- slicing\n",
    "- string methods"
   ]
  },
  {
   "cell_type": "markdown",
   "metadata": {
    "slideshow": {
     "slide_type": "slide"
    }
   },
   "source": [
    "#### Immutable "
   ]
  },
  {
   "cell_type": "code",
   "execution_count": null,
   "metadata": {},
   "outputs": [],
   "source": [
    "fish = 'gold'\n",
    "fish += 'fish'\n",
    "print(fish)"
   ]
  },
  {
   "cell_type": "code",
   "execution_count": null,
   "metadata": {
    "slideshow": {
     "slide_type": "fragment"
    }
   },
   "outputs": [],
   "source": [
    "fish = 'gold'\n",
    "first_fish_id = id(fish)\n",
    "print(first_fish_id, fish)\n",
    "\n",
    "fish += 'fish'\n",
    "second_fish_id = id(fish)\n",
    "print(second_fish_id, fish)"
   ]
  },
  {
   "cell_type": "markdown",
   "metadata": {
    "slideshow": {
     "slide_type": "slide"
    }
   },
   "source": [
    "#### Formatting"
   ]
  },
  {
   "cell_type": "code",
   "execution_count": null,
   "metadata": {},
   "outputs": [],
   "source": [
    "species = 'Gray Parrots'\n",
    "max_age = 60\n",
    "min_age = 40\n",
    "\n",
    "simple = species + ' may live ' + str(min_age) + ' - ' + str(max_age) + ' years in captivity.'\n",
    "old_style = '%s may live %s - %s years in captivity.' % (species, min_age, max_age)\n",
    "new_style = '{0} may live {1} - {2} years in captivity.'.format(species, min_age, max_age)\n",
    "fstrings = f'{species} may live {min_age} - {max_age} years in captivity.' #Python 3\n",
    "\n",
    "print('simple:   ', simple)\n",
    "print('old style:', old_style)\n",
    "print('new style:', new_style)\n",
    "print('fstrings: ', fstrings)"
   ]
  },
  {
   "cell_type": "markdown",
   "metadata": {
    "slideshow": {
     "slide_type": "slide"
    }
   },
   "source": [
    "#### Format specifiers"
   ]
  },
  {
   "cell_type": "code",
   "execution_count": null,
   "metadata": {
    "slideshow": {
     "slide_type": "-"
    }
   },
   "outputs": [],
   "source": [
    "new_style = '{0} may live {1} - {2} years in captivity.'.format(species, min_age/7, max_age/9)\n",
    "fstrings = f'{species} may live {min_age/7} - {max_age/9} years in captivity.'\n",
    "print(new_style)\n",
    "print(fstrings)"
   ]
  },
  {
   "cell_type": "code",
   "execution_count": null,
   "metadata": {
    "slideshow": {
     "slide_type": "fragment"
    }
   },
   "outputs": [],
   "source": [
    "new_style = '{0} may live {1:.2f} - {2:.2f} years in captivity.'.format(species, min_age/7, max_age/9)\n",
    "fstrings = f'{species} may live {min_age/7:.2f} - {max_age/9:.2f} years in captivity.'\n",
    "print(new_style)\n",
    "print(fstrings)"
   ]
  },
  {
   "cell_type": "code",
   "execution_count": null,
   "metadata": {
    "slideshow": {
     "slide_type": "slide"
    }
   },
   "outputs": [],
   "source": [
    "from string import Template\n",
    "\n",
    "age_range = Template('$animal may live for $low - $high years in captivity.')\n",
    "age_range.substitute(animal=species, low=max_age, high=min_age)\n"
   ]
  },
  {
   "cell_type": "markdown",
   "metadata": {
    "slideshow": {
     "slide_type": "slide"
    }
   },
   "source": [
    "#### Slicing"
   ]
  },
  {
   "cell_type": "code",
   "execution_count": null,
   "metadata": {},
   "outputs": [],
   "source": [
    "inventory = \"Inventory:Month,Rabbits,Guinea Pigs,Hamsters\\njun,10,25,12\\njul,5,4,7\\naug,21,16,10\\n---\""
   ]
  },
  {
   "cell_type": "code",
   "execution_count": null,
   "metadata": {},
   "outputs": [],
   "source": [
    "print(inventory[10:])"
   ]
  },
  {
   "cell_type": "code",
   "execution_count": null,
   "metadata": {},
   "outputs": [],
   "source": [
    "pet_inventory = inventory[10:-3]\n",
    "print(pet_inventory)"
   ]
  },
  {
   "cell_type": "markdown",
   "metadata": {
    "slideshow": {
     "slide_type": "slide"
    }
   },
   "source": [
    "#### String Methods"
   ]
  },
  {
   "cell_type": "code",
   "execution_count": null,
   "metadata": {
    "slideshow": {
     "slide_type": "fragment"
    }
   },
   "outputs": [],
   "source": [
    "pet_text_records = pet_inventory.split('\\n')\n",
    "print(pet_text_records)"
   ]
  },
  {
   "cell_type": "code",
   "execution_count": null,
   "metadata": {
    "slideshow": {
     "slide_type": "fragment"
    }
   },
   "outputs": [],
   "source": [
    "pet_text_records = pet_inventory.strip().split('\\n')\n",
    "print(pet_text_records)"
   ]
  },
  {
   "cell_type": "markdown",
   "metadata": {
    "slideshow": {
     "slide_type": "slide"
    }
   },
   "source": [
    "#### data structures\n",
    "\n",
    "- Tuples\n",
    "- Lists\n",
    "- Dictionaries\n",
    "- Sets"
   ]
  },
  {
   "cell_type": "markdown",
   "metadata": {
    "slideshow": {
     "slide_type": "slide"
    }
   },
   "source": [
    "#### data structures - tuples\n",
    "\n",
    "- immutable\n",
    "- store heterogeneous object types\n",
    "- enclosed in ()\n",
    "- trailing comma for 1 item tuples"
   ]
  },
  {
   "cell_type": "code",
   "execution_count": null,
   "metadata": {
    "slideshow": {
     "slide_type": "slide"
    }
   },
   "outputs": [],
   "source": [
    "fish = ('guppy', 'goldfish', 'angel')\n",
    "print(fish)"
   ]
  },
  {
   "cell_type": "code",
   "execution_count": null,
   "metadata": {},
   "outputs": [],
   "source": [
    "first_fish_id = id(fish)\n",
    "\n",
    "print(first_fish_id, fish)\n",
    "\n",
    "fish += ('koi',)\n",
    "\n",
    "second_fish_id = id(fish)\n",
    "\n",
    "print(second_fish_id, fish)"
   ]
  },
  {
   "cell_type": "markdown",
   "metadata": {
    "slideshow": {
     "slide_type": "slide"
    }
   },
   "source": [
    "#### tuple packing"
   ]
  },
  {
   "cell_type": "code",
   "execution_count": null,
   "metadata": {
    "slideshow": {
     "slide_type": "-"
    }
   },
   "outputs": [],
   "source": [
    "fish = 'guppy', 'goldfish', 'angelfish', 'betta',\n",
    "print(fish)"
   ]
  },
  {
   "cell_type": "code",
   "execution_count": null,
   "metadata": {
    "slideshow": {
     "slide_type": "fragment"
    }
   },
   "outputs": [],
   "source": [
    "one_fish = ('koi')\n",
    "print(one_fish)"
   ]
  },
  {
   "cell_type": "code",
   "execution_count": null,
   "metadata": {
    "slideshow": {
     "slide_type": "fragment"
    }
   },
   "outputs": [],
   "source": [
    "one_fish = 'koi',\n",
    "print(one_fish)"
   ]
  },
  {
   "cell_type": "markdown",
   "metadata": {
    "slideshow": {
     "slide_type": "slide"
    }
   },
   "source": [
    "#### sequence unpacking"
   ]
  },
  {
   "cell_type": "code",
   "execution_count": null,
   "metadata": {},
   "outputs": [],
   "source": [
    "one_fish, two_fish, red_fish, blue_fish  = fish\n",
    "\n",
    "print('one_fish', one_fish)\n",
    "print('two_fish', two_fish)\n",
    "print('red_fish', red_fish)\n",
    "print('blue_fish', blue_fish)"
   ]
  },
  {
   "cell_type": "code",
   "execution_count": null,
   "metadata": {
    "slideshow": {
     "slide_type": "slide"
    }
   },
   "outputs": [],
   "source": [
    "a = 'first'\n",
    "b = 'second'\n",
    "a, b = b, a\n",
    "print(a, b)"
   ]
  },
  {
   "cell_type": "markdown",
   "metadata": {
    "slideshow": {
     "slide_type": "slide"
    }
   },
   "source": [
    "#### Strings are also sequences"
   ]
  },
  {
   "cell_type": "code",
   "execution_count": null,
   "metadata": {},
   "outputs": [],
   "source": [
    "a,b,c = 'koi'\n",
    "print(a)\n",
    "print(b)\n",
    "print(c)"
   ]
  },
  {
   "cell_type": "markdown",
   "metadata": {
    "slideshow": {
     "slide_type": "slide"
    }
   },
   "source": [
    "#### And lists too ..."
   ]
  },
  {
   "cell_type": "code",
   "execution_count": null,
   "metadata": {},
   "outputs": [],
   "source": [
    "fisharray = list(fish)\n",
    "print(fisharray)"
   ]
  },
  {
   "cell_type": "code",
   "execution_count": null,
   "metadata": {},
   "outputs": [],
   "source": [
    "a,b,c,d = fisharray\n",
    "print(b)"
   ]
  },
  {
   "cell_type": "markdown",
   "metadata": {
    "slideshow": {
     "slide_type": "slide"
    }
   },
   "source": [
    "#### data structures - lists\n",
    "\n",
    "- mutable\n",
    "- store heterogeneous object types\n",
    "- enclosed in []\n",
    "- trailing comma isn't needed"
   ]
  },
  {
   "cell_type": "code",
   "execution_count": null,
   "metadata": {},
   "outputs": [],
   "source": [
    "pets = ['Rabbits', 'Guinea Pigs', 'Hamsters']"
   ]
  },
  {
   "cell_type": "code",
   "execution_count": null,
   "metadata": {
    "slideshow": {
     "slide_type": "slide"
    }
   },
   "outputs": [],
   "source": [
    "pets = list(pets)\n",
    "first_pets_id = id(pets)\n",
    "print(first_pets_id, pets)\n",
    "\n",
    "pets += ['box turtles']\n",
    "second_pets_id = id(pets)\n",
    "print(second_pets_id, pets)"
   ]
  },
  {
   "cell_type": "code",
   "execution_count": null,
   "metadata": {
    "slideshow": {
     "slide_type": "slide"
    }
   },
   "outputs": [],
   "source": [
    "pets.append('milk snake')\n",
    "print(pets)"
   ]
  },
  {
   "cell_type": "code",
   "execution_count": null,
   "metadata": {
    "slideshow": {
     "slide_type": "slide"
    }
   },
   "outputs": [],
   "source": [
    "pets.extend(['finch', 'parrot'])\n",
    "print(pets)\n",
    "pets.sort()\n",
    "print(pets)\n",
    "pets.reverse()\n",
    "print(pets)"
   ]
  },
  {
   "cell_type": "code",
   "execution_count": null,
   "metadata": {
    "slideshow": {
     "slide_type": "slide"
    }
   },
   "outputs": [],
   "source": [
    "popped = pets.pop(len(pets)-1)\n",
    "pets.insert(0, popped)\n",
    "print(pets)"
   ]
  },
  {
   "cell_type": "markdown",
   "metadata": {
    "slideshow": {
     "slide_type": "fragment"
    }
   },
   "source": [
    "The `deque` module in the `collections` package is more efficient"
   ]
  },
  {
   "cell_type": "markdown",
   "metadata": {
    "slideshow": {
     "slide_type": "slide"
    }
   },
   "source": [
    "#### Concatenating a list of strings"
   ]
  },
  {
   "cell_type": "code",
   "execution_count": null,
   "metadata": {},
   "outputs": [],
   "source": [
    "'|'.join(pets)"
   ]
  },
  {
   "cell_type": "markdown",
   "metadata": {
    "slideshow": {
     "slide_type": "slide"
    }
   },
   "source": [
    "#### iterating over lists"
   ]
  },
  {
   "cell_type": "code",
   "execution_count": null,
   "metadata": {},
   "outputs": [],
   "source": [
    "for pet in pets:\n",
    "    print(pet)"
   ]
  },
  {
   "cell_type": "code",
   "execution_count": null,
   "metadata": {
    "slideshow": {
     "slide_type": "fragment"
    }
   },
   "outputs": [],
   "source": [
    "for i, pet in enumerate(pets):\n",
    "    print(i, pet)"
   ]
  },
  {
   "cell_type": "markdown",
   "metadata": {
    "slideshow": {
     "slide_type": "slide"
    }
   },
   "source": [
    "#### list comprehensions"
   ]
  },
  {
   "cell_type": "code",
   "execution_count": null,
   "metadata": {},
   "outputs": [],
   "source": [
    "res = []\n",
    "for pet in pets:\n",
    "    res.append(pet.upper())\n",
    "print(res)"
   ]
  },
  {
   "cell_type": "code",
   "execution_count": null,
   "metadata": {
    "slideshow": {
     "slide_type": "fragment"
    }
   },
   "outputs": [],
   "source": [
    "res = [pet.upper() for pet in pets]\n",
    "print(res)"
   ]
  },
  {
   "cell_type": "code",
   "execution_count": null,
   "metadata": {
    "slideshow": {
     "slide_type": "fragment"
    }
   },
   "outputs": [],
   "source": [
    "res = [pet.upper() for pet in pets if pet.lower() in ('milk snake', 'box turtles')]\n",
    "print(res)"
   ]
  },
  {
   "cell_type": "markdown",
   "metadata": {
    "slideshow": {
     "slide_type": "slide"
    }
   },
   "source": [
    "#### Getting back to pet text records"
   ]
  },
  {
   "cell_type": "code",
   "execution_count": null,
   "metadata": {},
   "outputs": [],
   "source": [
    "pet_text_records = ['Month,Rabbits,Guinea Pigs,Hamsters', 'jun,10,25,12', 'jul,5,4,7', 'aug,21,16,10']\n",
    "pet_records = [record.split(',') for record in pet_text_records]\n",
    "\n",
    "from pprint import pprint as pp\n",
    "pp(pet_records)"
   ]
  },
  {
   "cell_type": "code",
   "execution_count": null,
   "metadata": {},
   "outputs": [],
   "source": [
    "header, records = pet_records[0], pet_records[1:]\n",
    "\n",
    "print(header)\n",
    "print(records)"
   ]
  },
  {
   "cell_type": "markdown",
   "metadata": {
    "slideshow": {
     "slide_type": "slide"
    }
   },
   "source": [
    "#### zip"
   ]
  },
  {
   "cell_type": "code",
   "execution_count": null,
   "metadata": {
    "slideshow": {
     "slide_type": "-"
    }
   },
   "outputs": [],
   "source": [
    "keys = ['one', 'two']\n",
    "values = [1,2]\n",
    "zip(keys, values)"
   ]
  },
  {
   "cell_type": "code",
   "execution_count": null,
   "metadata": {
    "slideshow": {
     "slide_type": "fragment"
    }
   },
   "outputs": [],
   "source": [
    "list(zip(keys, values))"
   ]
  },
  {
   "cell_type": "code",
   "execution_count": null,
   "metadata": {},
   "outputs": [],
   "source": [
    "zipped_records = [list(zip(header, record)) for record in records]\n",
    "for record in zipped_records: print(record)"
   ]
  },
  {
   "cell_type": "code",
   "execution_count": null,
   "metadata": {},
   "outputs": [],
   "source": [
    "zipped_records = [dict(zip(header, record)) for record in records]\n",
    "for record in zipped_records: print(record)"
   ]
  },
  {
   "cell_type": "markdown",
   "metadata": {
    "slideshow": {
     "slide_type": "slide"
    }
   },
   "source": [
    "#### data structures - dictionaries\n",
    "\n",
    "- keys must be unique\n",
    "- keys can be any immutable type (including tuples)\n",
    "- values can be heterogeneous object types\n",
    "- ordered in Python 3, unordered in Python 2"
   ]
  },
  {
   "cell_type": "code",
   "execution_count": null,
   "metadata": {
    "slideshow": {
     "slide_type": "fragment"
    }
   },
   "outputs": [],
   "source": [
    "record = {'Month': 'jun', 'Rabbits': '10', 'Guinea Pigs': '25', 'Hamsters': '12'}\n",
    "\n",
    "record[\"Hamsters\"]"
   ]
  },
  {
   "cell_type": "markdown",
   "metadata": {
    "slideshow": {
     "slide_type": "slide"
    }
   },
   "source": [
    "#### Getting a list of values"
   ]
  },
  {
   "cell_type": "code",
   "execution_count": null,
   "metadata": {},
   "outputs": [],
   "source": [
    "list(record.values())"
   ]
  },
  {
   "cell_type": "markdown",
   "metadata": {
    "slideshow": {
     "slide_type": "slide"
    }
   },
   "source": [
    "#### Getting a list of keys"
   ]
  },
  {
   "cell_type": "code",
   "execution_count": null,
   "metadata": {},
   "outputs": [],
   "source": [
    "list(record)"
   ]
  },
  {
   "cell_type": "markdown",
   "metadata": {
    "slideshow": {
     "slide_type": "slide"
    }
   },
   "source": [
    "#### Iterating over a dictionary"
   ]
  },
  {
   "cell_type": "code",
   "execution_count": null,
   "metadata": {},
   "outputs": [],
   "source": [
    "for key, value in record.items():\n",
    "    print(key, value)"
   ]
  },
  {
   "cell_type": "markdown",
   "metadata": {
    "slideshow": {
     "slide_type": "slide"
    }
   },
   "source": [
    "#### Deleting a key"
   ]
  },
  {
   "cell_type": "code",
   "execution_count": null,
   "metadata": {},
   "outputs": [],
   "source": [
    "del record['Hamsters']\n",
    "for key, value in record.items():\n",
    "    print(key, value)"
   ]
  },
  {
   "cell_type": "markdown",
   "metadata": {
    "slideshow": {
     "slide_type": "slide"
    }
   },
   "source": [
    "#### Dictionary comprehensions"
   ]
  },
  {
   "cell_type": "code",
   "execution_count": null,
   "metadata": {},
   "outputs": [],
   "source": [
    "recs_by_month = {rec['Month']: rec for rec in zipped_records}\n",
    "print(recs_by_month)\n",
    "print('-' * 60)\n",
    "print(recs_by_month['aug'])"
   ]
  },
  {
   "cell_type": "markdown",
   "metadata": {
    "slideshow": {
     "slide_type": "slide"
    }
   },
   "source": [
    "#### data structures - sets\n",
    "- unordered\n",
    "- mutable (frozen sets are immutable)\n",
    "- don't support indexing"
   ]
  },
  {
   "cell_type": "markdown",
   "metadata": {
    "slideshow": {
     "slide_type": "slide"
    }
   },
   "source": [
    "#### Getting unique values"
   ]
  },
  {
   "cell_type": "code",
   "execution_count": null,
   "metadata": {
    "slideshow": {
     "slide_type": "-"
    }
   },
   "outputs": [],
   "source": [
    "rodents = ['mice', 'rats', 'hamsters','rats','guinea pigs']"
   ]
  },
  {
   "cell_type": "code",
   "execution_count": null,
   "metadata": {
    "slideshow": {
     "slide_type": "fragment"
    }
   },
   "outputs": [],
   "source": [
    "set(rodents)"
   ]
  },
  {
   "cell_type": "code",
   "execution_count": null,
   "metadata": {
    "slideshow": {
     "slide_type": "fragment"
    }
   },
   "outputs": [],
   "source": [
    "list(set(rodents))"
   ]
  },
  {
   "cell_type": "markdown",
   "metadata": {
    "slideshow": {
     "slide_type": "slide"
    }
   },
   "source": [
    "#### set operations"
   ]
  },
  {
   "cell_type": "code",
   "execution_count": null,
   "metadata": {
    "slideshow": {
     "slide_type": "-"
    }
   },
   "outputs": [],
   "source": [
    "set1 = set(['mice', 'rats', 'hamsters'])\n",
    "set2 = set(['rats', 'guinea pigs', 'hamsters'])\n",
    "\n",
    "print(set1 - set2)\n",
    "print(set1 | set2)"
   ]
  },
  {
   "cell_type": "code",
   "execution_count": null,
   "metadata": {},
   "outputs": [],
   "source": [
    "set1.union(set2)"
   ]
  },
  {
   "cell_type": "code",
   "execution_count": null,
   "metadata": {},
   "outputs": [],
   "source": [
    "set1.difference(set2)"
   ]
  },
  {
   "cell_type": "code",
   "execution_count": null,
   "metadata": {},
   "outputs": [],
   "source": [
    "set1.intersection(set2)"
   ]
  },
  {
   "cell_type": "markdown",
   "metadata": {
    "slideshow": {
     "slide_type": "slide"
    }
   },
   "source": [
    "#### iterating"
   ]
  },
  {
   "cell_type": "code",
   "execution_count": null,
   "metadata": {},
   "outputs": [],
   "source": [
    "for rodent in rodents:\n",
    "    print(rodent)"
   ]
  },
  {
   "cell_type": "code",
   "execution_count": null,
   "metadata": {
    "slideshow": {
     "slide_type": "fragment"
    }
   },
   "outputs": [],
   "source": [
    "set(rodents)[2]"
   ]
  },
  {
   "cell_type": "markdown",
   "metadata": {
    "slideshow": {
     "slide_type": "slide"
    }
   },
   "source": [
    "#### set comprehensions"
   ]
  },
  {
   "cell_type": "code",
   "execution_count": null,
   "metadata": {},
   "outputs": [],
   "source": [
    "unique_letters1 = {x for x in 'this is a really exotic pet store.'}\n",
    "unique_letters2 = {x for x in 'this is a really nice pet store'}\n",
    "\n",
    "unique_letters1 - unique_letters2\n"
   ]
  },
  {
   "cell_type": "markdown",
   "metadata": {
    "slideshow": {
     "slide_type": "slide"
    }
   },
   "source": [
    "#### Reading a file"
   ]
  },
  {
   "cell_type": "code",
   "execution_count": null,
   "metadata": {
    "slideshow": {
     "slide_type": "-"
    }
   },
   "outputs": [],
   "source": [
    "import os\n",
    "\n",
    "# path = '/Users/cyrus/Documents/projects/codechix/code-chix-py-deck/customers.txt'\n",
    "path = os.path.join(os.getcwd(), '..', 'exercises', 'data', 'customers.txt')\n",
    "\n",
    "try:\n",
    "    f = open(path, 'r')\n",
    "    customer_records = f.readlines()\n",
    "\n",
    "finally:\n",
    "    f.close()\n",
    "    \n",
    "print(customer_records[0:10])"
   ]
  },
  {
   "cell_type": "code",
   "execution_count": null,
   "metadata": {
    "slideshow": {
     "slide_type": "fragment"
    }
   },
   "outputs": [],
   "source": [
    "path = os.path.join(os.getcwd(), '..', 'exercises', 'data', 'customers.txt')\n",
    "\n",
    "with open(path, 'r') as f:\n",
    "    customer_records = f.readlines()\n",
    "    \n",
    "print(customer_records[0:10])"
   ]
  },
  {
   "cell_type": "markdown",
   "metadata": {
    "slideshow": {
     "slide_type": "slide"
    }
   },
   "source": [
    "#### Activity 1a: Read over a text file and get the header and a list of records\n",
    "\n",
    "1. Open customers.txt and read the file using `readlines()`\n",
    "2. Assign the first line to a variable called header\n",
    "3. Using a list comprehension, insert the remaining lines into a new list \n",
    "\n",
    "```\n",
    "name|easting|northing|petcount\n",
    "\n",
    "['Chris Hemsworth|-122.0891447521042|37.38306796320479|1\\n', 'Tom Hiddleston|-122.11155012589451|37.382287439185895|0\\n']\n",
    "```"
   ]
  },
  {
   "cell_type": "code",
   "execution_count": null,
   "metadata": {
    "slideshow": {
     "slide_type": "-"
    }
   },
   "outputs": [],
   "source": [
    "path = os.path.join(os.getcwd(), '..', 'exercises', 'data', 'customers.txt')\n",
    "\n",
    "with open(path, 'r') as f:\n",
    "    lines = f.readlines()"
   ]
  },
  {
   "cell_type": "markdown",
   "metadata": {
    "slideshow": {
     "slide_type": "slide"
    }
   },
   "source": [
    "### Review:"
   ]
  },
  {
   "cell_type": "code",
   "execution_count": null,
   "metadata": {
    "slideshow": {
     "slide_type": "fragment"
    }
   },
   "outputs": [],
   "source": [
    "path = os.path.join(os.getcwd(), '..', 'exercises', 'data', 'customers.txt')\n",
    "\n",
    "with open(path, 'r') as f:\n",
    "    lines = f.readlines()\n",
    "    header = lines[0]\n",
    "    records = [line for line in lines[1:]]\n",
    "\n",
    "print(header)\n",
    "print(records[0:2])"
   ]
  },
  {
   "cell_type": "markdown",
   "metadata": {
    "slideshow": {
     "slide_type": "slide"
    }
   },
   "source": [
    "#### Activity 1b: Create a list of dictionaries from the header and each record\n",
    "\n",
    "1. Use `.strip().split()` to split your header into a list\n",
    "2. Modify your list comprehension to split each line into a list with `.strip().split()`\n",
    "3. At this point you should have a list of lists.\n",
    "4. Write a second list comprehension from the result of the last step. Call `dict(zip(header, record))` creating a list of dictionaries.\n",
    "\n",
    "```\n",
    "    {'name': 'Chris Hemsworth',\n",
    "    'easting': '-122.0891447521042',\n",
    "    'northing': '37.38306796320479',\n",
    "    'petcount': '1'}\n",
    "```"
   ]
  },
  {
   "cell_type": "markdown",
   "metadata": {
    "slideshow": {
     "slide_type": "slide"
    }
   },
   "source": [
    "### Review:"
   ]
  },
  {
   "cell_type": "code",
   "execution_count": null,
   "metadata": {
    "slideshow": {
     "slide_type": "-"
    }
   },
   "outputs": [],
   "source": [
    "path = os.path.join(os.getcwd(), '..', 'exercises', 'data', 'customers.txt')\n",
    "\n",
    "with open(path, 'r') as f:\n",
    "    lines = f.readlines()\n",
    "    header = lines[0].strip().split('|')\n",
    "    records = [line.strip().split('|') for line in lines[1:]]"
   ]
  },
  {
   "cell_type": "code",
   "execution_count": null,
   "metadata": {
    "slideshow": {
     "slide_type": "slide"
    }
   },
   "outputs": [],
   "source": [
    "path = os.path.join(os.getcwd(), '..', 'exercises', 'data', 'customers.txt')\n",
    "\n",
    "with open(path, 'r') as f:\n",
    "    lines = f.readlines()\n",
    "    header = lines[0].strip().split('|')\n",
    "    records = [line.strip().split('|') for line in lines[1:]]\n",
    "\n",
    "res = [dict(zip(header, record)) for record in records]\n",
    "\n",
    "print(res[0])"
   ]
  }
 ],
 "metadata": {
  "celltoolbar": "Slideshow",
  "kernelspec": {
   "display_name": "Python 3",
   "language": "python",
   "name": "python3"
  },
  "language_info": {
   "codemirror_mode": {
    "name": "ipython",
    "version": 3
   },
   "file_extension": ".py",
   "mimetype": "text/x-python",
   "name": "python",
   "nbconvert_exporter": "python",
   "pygments_lexer": "ipython3",
   "version": "3.7.2"
  }
 },
 "nbformat": 4,
 "nbformat_minor": 2
}

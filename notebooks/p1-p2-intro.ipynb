{
 "cells": [
  {
   "cell_type": "markdown",
   "metadata": {
    "slideshow": {
     "slide_type": "slide"
    }
   },
   "source": [
    "## A Python Refresher\n",
    "\n",
    "#### Cyrus Hiatt\n",
    "##### 19 April 2019"
   ]
  },
  {
   "cell_type": "markdown",
   "metadata": {
    "slideshow": {
     "slide_type": "slide"
    }
   },
   "source": [
    "### Just a little about me...\n",
    "\n",
    "<div style=\"display:inline-flex; width: 100%; justify-content: space-around\">\n",
    "<img src=\"../assets/img/fargeo.png\" style=\"width: 260px; height: 90px; padding:15px\" />\n",
    "<img src=\"../assets/img/arches-logo.svg\" style=\"width: 225px; padding:15px\" />\n",
    "</div>"
   ]
  },
  {
   "cell_type": "markdown",
   "metadata": {
    "slideshow": {
     "slide_type": "slide"
    }
   },
   "source": [
    "### Workshop outline\n",
    "\n",
    "- Python overview\n",
    "- virtual environments and pip\n",
    "- data structures, iterating & comprehensions\n",
    "- functions\n",
    "- generators \n",
    "- decorators\n",
    "\n",
    "- Activities: Map some customer data for a mock pet store\n"
   ]
  },
  {
   "cell_type": "markdown",
   "metadata": {
    "slideshow": {
     "slide_type": "slide"
    }
   },
   "source": [
    "#### Part I: Python Overview\n",
    "\n",
    "- Interpreted language\n",
    "- Interactive mode"
   ]
  },
  {
   "cell_type": "code",
   "execution_count": null,
   "metadata": {
    "slideshow": {
     "slide_type": "fragment"
    }
   },
   "outputs": [],
   "source": [
    "for i in range(10): print(i)"
   ]
  },
  {
   "cell_type": "markdown",
   "metadata": {
    "slideshow": {
     "slide_type": "slide"
    }
   },
   "source": [
    "#### Style ...\n",
    "\n",
    "- Variable names are in `snake_case`  \n",
    "- Class names are in `PascalCase`\n",
    "- Code blocks are defined by indentation. \n",
    "    - You can't mix tabs and spaces (Python 3)\n",
    "    - Spaces (4) are preferred\n",
    "- Python Enhancement Proposal 8 (PEP 8)\n",
    "    - atom.io users (autopep8)"
   ]
  },
  {
   "cell_type": "markdown",
   "metadata": {
    "slideshow": {
     "slide_type": "slide"
    }
   },
   "source": [
    "#### Strongly and dynamically typed"
   ]
  },
  {
   "cell_type": "code",
   "execution_count": null,
   "metadata": {
    "slideshow": {
     "slide_type": "-"
    }
   },
   "outputs": [],
   "source": [
    "val = '1'\n",
    "res = val + 2\n",
    "print(res)"
   ]
  },
  {
   "cell_type": "code",
   "execution_count": null,
   "metadata": {
    "slideshow": {
     "slide_type": "fragment"
    }
   },
   "outputs": [],
   "source": [
    "val = 24\n",
    "val = '24'\n",
    "\n",
    "try:\n",
    "    res = float(val) + 2\n",
    "    print(res)\n",
    "except ValueError as e:\n",
    "    print('error:', e)"
   ]
  },
  {
   "cell_type": "markdown",
   "metadata": {
    "slideshow": {
     "slide_type": "slide"
    }
   },
   "source": [
    "#### Modules and Packages  \n",
    "\n",
    "- A module is a python file \n",
    "- A package is a collection of modules"
   ]
  },
  {
   "cell_type": "markdown",
   "metadata": {
    "slideshow": {
     "slide_type": "slide"
    }
   },
   "source": [
    "#### Getting Packages\n",
    "\n",
    "- Python Package Index, PyPI aka 'the cheeseshop'\n",
    "- pip\n",
    "    - install\n",
    "    - freeze\n",
    "    - search\n",
    "- conda"
   ]
  },
  {
   "cell_type": "markdown",
   "metadata": {
    "slideshow": {
     "slide_type": "slide"
    }
   },
   "source": [
    "#### Virtual Environments\n",
    "\n",
    "- Allows you to have multiple installations of Python\n",
    "- Useful for projects with different versions of the\n",
    "same dependency.\n"
   ]
  },
  {
   "cell_type": "markdown",
   "metadata": {
    "slideshow": {
     "slide_type": "slide"
    }
   },
   "source": [
    "#### Creating a virtual environment:\n",
    "\n",
    "##### Python 3.7\n",
    "~~~~{.bash}\n",
    "python -m venv env\n",
    "~~~~\n",
    "\n",
    "##### Python 2.7 (requires virtualenv)\n",
    "~~~~{.bash}\n",
    "virtualenv env\n",
    "~~~~"
   ]
  },
  {
   "cell_type": "markdown",
   "metadata": {
    "slideshow": {
     "slide_type": "slide"
    }
   },
   "source": [
    "#### requirements.txt\n",
    "\n",
    "```\n",
    "folium==0.8.3\n",
    "haversine==2.0.0\n",
    "```"
   ]
  },
  {
   "cell_type": "markdown",
   "metadata": {
    "slideshow": {
     "slide_type": "slide"
    }
   },
   "source": [
    "#### Installing from requirements.txt (Python 3.7)\n",
    "\n",
    "##### Unix/Linux\n",
    "~~~~{.bash}\n",
    "$ source env/bin/activate\n",
    "(env)$ pip install -r requirements.txt\n",
    "~~~~\n",
    "\n",
    "##### Windows\n",
    "~~~~{.bash}\n",
    "> env\\Scripts\\activate\n",
    "(env) > pip install -r requirements.txt\n",
    "~~~~"
   ]
  }
 ],
 "metadata": {
  "celltoolbar": "Slideshow",
  "kernelspec": {
   "display_name": "Python 3",
   "language": "python",
   "name": "python3"
  },
  "language_info": {
   "codemirror_mode": {
    "name": "ipython",
    "version": 3
   },
   "file_extension": ".py",
   "mimetype": "text/x-python",
   "name": "python",
   "nbconvert_exporter": "python",
   "pygments_lexer": "ipython3",
   "version": "3.7.2"
  }
 },
 "nbformat": 4,
 "nbformat_minor": 2
}

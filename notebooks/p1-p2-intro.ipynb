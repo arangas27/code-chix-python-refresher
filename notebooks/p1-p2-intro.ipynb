{
 "cells": [
  {
   "cell_type": "markdown",
   "metadata": {
    "slideshow": {
     "slide_type": "slide"
    }
   },
   "source": [
    "## A Python Refresher\n",
    "\n",
    "#### Cyrus Hiatt\n",
    "##### 19 April 2019"
   ]
  },
  {
   "cell_type": "markdown",
   "metadata": {
    "slideshow": {
     "slide_type": "slide"
    }
   },
   "source": [
    "### Just a little about me...\n",
    "\n",
    "<div style=\"display:inline-flex; width: 100%; justify-content: space-around\">\n",
    "<img src=\"../assets/img/fargeo.png\" style=\"width: 260px; height: 90px; padding:15px\" />\n",
    "<img src=\"../assets/img/arches-logo.svg\" style=\"width: 225px; padding:15px\" />\n",
    "</div>"
   ]
  },
  {
   "cell_type": "markdown",
   "metadata": {
    "slideshow": {
     "slide_type": "slide"
    }
   },
   "source": [
    "### Workshop outline\n",
    "\n",
    "- Python overview\n",
    "- installation and dependencies\n",
    "- data structures, iterating & comprehensions\n",
    "- functions\n",
    "- generators \n",
    "- decorators\n",
    "\n",
    "- Activities: Map some customer data for a mock pet store\n"
   ]
  },
  {
   "cell_type": "markdown",
   "metadata": {
    "slideshow": {
     "slide_type": "slide"
    }
   },
   "source": [
    "### Part I: Python Overview\n",
    "\n",
    "- Interpreted language\n",
    "- Interactive mode\n",
    "- Easy to learn/read syntax enforced by indentation\n",
    "- Rapid development\n",
    "- PEP 8"
   ]
  },
  {
   "cell_type": "code",
   "execution_count": null,
   "metadata": {
    "slideshow": {
     "slide_type": "slide"
    }
   },
   "outputs": [],
   "source": [
    "# strongly typed\n",
    "\n",
    "val = '1'\n",
    "res = val + 2\n",
    "print(res)"
   ]
  },
  {
   "cell_type": "code",
   "execution_count": null,
   "metadata": {
    "slideshow": {
     "slide_type": "fragment"
    }
   },
   "outputs": [],
   "source": [
    "# .. but dynamic\n",
    "\n",
    "val = 24\n",
    "val = '24x'\n",
    "try:\n",
    "    res = float(val) + 2\n",
    "    print(res)\n",
    "except ValueError as e:\n",
    "    print(e)"
   ]
  },
  {
   "cell_type": "markdown",
   "metadata": {
    "slideshow": {
     "slide_type": "slide"
    }
   },
   "source": [
    "### Part II: Installation and dependencies\n",
    "\n",
    "- Virtualenv\n",
    "- PyPi and pip\n",
    "- requirements"
   ]
  },
  {
   "cell_type": "markdown",
   "metadata": {
    "slideshow": {
     "slide_type": "slide"
    }
   },
   "source": [
    "### Virtualenv\n",
    "\n",
    "- Allows you to have multiple installations of Python\n",
    "- Useful for projects with different versions of the\n",
    "same dependency.\n",
    "- Node does this differently with a global installation and dependencies\n",
    "installed in each project directory.\n"
   ]
  },
  {
   "cell_type": "markdown",
   "metadata": {
    "slideshow": {
     "slide_type": "slide"
    }
   },
   "source": [
    "### requirements.txt\n",
    "\n",
    "```\n",
    "folium==0.8.3\n",
    "ipdb==0.12\n",
    "haversine\n",
    "```"
   ]
  },
  {
   "cell_type": "markdown",
   "metadata": {
    "slideshow": {
     "slide_type": "slide"
    }
   },
   "source": [
    "### Installing with requirements\n",
    "\n",
    "##### unix/linux\n",
    "\n",
    "~~~~{.bash}\n",
    "$ virtualenv env\n",
    "$ source env/bin/activate\n",
    "(env)$ pip install -r requirements.txt\n",
    "~~~~\n",
    "\n",
    "#### Windows\n",
    "\n",
    "~~~~{.bash}\n",
    "> virtualenv env\n",
    "> env\\Scripts\\activate\n",
    "(env) > pip install -r requirements.txt\n",
    "~~~~\n"
   ]
  }
 ],
 "metadata": {
  "celltoolbar": "Slideshow",
  "kernelspec": {
   "display_name": "Python 3",
   "language": "python",
   "name": "python3"
  },
  "language_info": {
   "codemirror_mode": {
    "name": "ipython",
    "version": 3
   },
   "file_extension": ".py",
   "mimetype": "text/x-python",
   "name": "python",
   "nbconvert_exporter": "python",
   "pygments_lexer": "ipython3",
   "version": "3.7.2"
  }
 },
 "nbformat": 4,
 "nbformat_minor": 2
}

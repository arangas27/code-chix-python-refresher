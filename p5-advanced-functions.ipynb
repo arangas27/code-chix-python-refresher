{
 "cells": [
  {
   "cell_type": "code",
   "execution_count": null,
   "metadata": {},
   "outputs": [],
   "source": [
    "import functools\n",
    "import json\n",
    "import folium\n",
    "import os\n",
    "import csv\n",
    "import math\n",
    "import random\n",
    "from pprint import pprint as pp"
   ]
  },
  {
   "cell_type": "markdown",
   "metadata": {},
   "source": [
    "#### Generators"
   ]
  },
  {
   "cell_type": "code",
   "execution_count": null,
   "metadata": {},
   "outputs": [],
   "source": [
    "def create_records_generator(start, end):\n",
    "    while start < end:\n",
    "        start += 1\n",
    "        yield start\n",
    "\n",
    "\n",
    "def create_records_array(start, end):\n",
    "    res = []\n",
    "    while start < end:\n",
    "        start += 1\n",
    "        res.append(start)\n",
    "    return res"
   ]
  },
  {
   "cell_type": "code",
   "execution_count": null,
   "metadata": {},
   "outputs": [],
   "source": [
    "generator = create_records_generator(3, 100000000)\n",
    "for x in generator:\n",
    "    if x % 10000000 == 0:\n",
    "        print('from generator', x)\n",
    "\n",
    "array = create_records_array(3, 100000000)\n",
    "for n in array:\n",
    "    if n % 10000000 == 0:\n",
    "        print('from array', n)"
   ]
  },
  {
   "cell_type": "markdown",
   "metadata": {},
   "source": [
    "If generators require less memory than lists, why not always use generators?\n",
    "\n",
    "- lists should be used when you are iterating multiple times over the list (because they are cached).\n",
    "- lists are needed when you need to access items out of order"
   ]
  },
  {
   "cell_type": "markdown",
   "metadata": {},
   "source": [
    "#### Decorators"
   ]
  },
  {
   "cell_type": "code",
   "execution_count": null,
   "metadata": {},
   "outputs": [],
   "source": [
    "import logging\n",
    "          \n",
    "def log_type_error(func):\n",
    "    def wrapper(*args, **kwargs):\n",
    "        try:\n",
    "            order = func(*args, **kwargs)\n",
    "            return order  \n",
    "        except TypeError as e:\n",
    "            logging.error(\"{0} error: {1}\".format(func.__name__, e))\n",
    "    return wrapper\n",
    "\n",
    "@log_type_error\n",
    "def concat_strings(*somewords):\n",
    "    res = (' ').join(somewords)  \n",
    "    return res            \n",
    "\n",
    "res = concat_strings('polly\\'s', 'pet', 'shop')\n",
    "print(res)\n",
    "\n",
    "res = concat_strings(7, 2)       \n",
    "print(res)"
   ]
  },
  {
   "cell_type": "code",
   "execution_count": null,
   "metadata": {
    "slideshow": {
     "slide_type": "skip"
    }
   },
   "outputs": [],
   "source": [
    "path = '/Users/cyrus/Documents/projects/codechix/code-chix-py-deck/customers.txt'\n",
    "def parse_csv(path, delimiter='|'):\n",
    "    with open(path, 'r') as f:\n",
    "        lines = f.readlines()\n",
    "        header = lines[0].strip().split(delimiter)\n",
    "        records = [\n",
    "            line.strip().split('|') for line in lines[1:]\n",
    "            ]\n",
    "\n",
    "    res = [\n",
    "        dict(zip(header, record)) for record in records\n",
    "        ]\n",
    "    return res\n",
    "\n",
    "records = parse_csv(path)\n",
    "print(records[0:2])"
   ]
  },
  {
   "cell_type": "code",
   "execution_count": null,
   "metadata": {},
   "outputs": [],
   "source": [
    "def make_geojson(func):\n",
    "    @functools.wraps(func)\n",
    "    def wrapper_convert_to_json(**kwargs):\n",
    "        feature = {\n",
    "          \"type\": \"Feature\",\n",
    "          \"properties\": {},\n",
    "          \"geometry\": {\n",
    "            \"type\": \"Point\",\n",
    "            \"coordinates\": [\n",
    "                float(kwargs['customer']['easting']),\n",
    "                float(kwargs['customer']['northing']),\n",
    "            ]\n",
    "          }\n",
    "        }\n",
    "        feature['properties'] = kwargs['customer']\n",
    "        feature['properties']['distance'] = func(**kwargs)\n",
    "        return feature\n",
    "    return wrapper_convert_to_json"
   ]
  },
  {
   "cell_type": "code",
   "execution_count": null,
   "metadata": {},
   "outputs": [],
   "source": [
    "@make_geojson\n",
    "def calc_distance(store, customer):\n",
    "    x1, x2 = float(store['easting']), float(customer['easting'])\n",
    "    y1, y2 = float(store['northing']), float(customer['northing'])\n",
    "    res = math.sqrt(\n",
    "        ((x1-x2)**2) + ((y1-y2)**2)\n",
    "    )\n",
    "    return res\n",
    "\n",
    "features = []\n",
    "for rec in records:\n",
    "    f = calc_distance(store={'easting': -122.5, 'northing': 37.51}, customer=rec)\n",
    "    features.append(f)"
   ]
  },
  {
   "cell_type": "code",
   "execution_count": null,
   "metadata": {},
   "outputs": [],
   "source": [
    "# def create_features(records):\n",
    "#     features = []\n",
    "#     for record in records:\n",
    "#         feature = {\n",
    "#           \"type\": \"Feature\",\n",
    "#           \"properties\": {\n",
    "#             \"name\": record[\"name\"],\n",
    "#             \"pets\": record[\"petcount\"]\n",
    "#           },\n",
    "#           \"geometry\": {\n",
    "#             \"type\": \"Point\",\n",
    "#             \"coordinates\": [\n",
    "#                 record[\"easting\"],\n",
    "#                 record[\"northing\"]\n",
    "#             ]\n",
    "#           }\n",
    "#         }\n",
    "#         features.append(feature)\n",
    "#     return features"
   ]
  },
  {
   "cell_type": "code",
   "execution_count": null,
   "metadata": {},
   "outputs": [],
   "source": [
    "def map_results(features=[]):\n",
    "    print(features[0])\n",
    "    from pprint import pprint as pp\n",
    "    featurejson = json.dumps(features)\n",
    "    geo = {\n",
    "          \"type\": \"FeatureCollection\",\n",
    "          \"features\": features\n",
    "        }\n",
    "    \n",
    "    gj = json.dumps(geo)\n",
    "\n",
    "    easting = random.uniform(-122.112007, -122.056732)\n",
    "    northing = random.uniform(37.367974, 37.424979)\n",
    "    m = folium.Map(\n",
    "        location=[northing, easting],\n",
    "        tiles='OpenStreetMap',\n",
    "        zoom_start=14\n",
    "    )\n",
    "    folium.GeoJson(\n",
    "        gj,\n",
    "        name='geojson'\n",
    "    ).add_to(m)\n",
    "\n",
    "    folium.LayerControl().add_to(m)\n",
    "    m.save('index2.html')\n",
    "    \n",
    "map_results(features)"
   ]
  },
  {
   "cell_type": "code",
   "execution_count": null,
   "metadata": {},
   "outputs": [],
   "source": [
    "def main():\n",
    "    path = os.path.join(os.getcwd(), 'customers.txt')\n",
    "    customers = read_customer_data(path)\n",
    "    features = create_features(customers)\n",
    "    distance = calc_distance(start={'x': 5, 'y': 10}, end={'x': 2, 'y': 7})\n",
    "    distance_no_dec = calc_distance_no_decorator(\n",
    "        start={'x': 5, 'y': 10},\n",
    "        end={'x': 2, 'y': 7})\n",
    "    pp(distance)\n",
    "    pp(distance_no_dec)\n",
    "    map_results(features)"
   ]
  },
  {
   "cell_type": "code",
   "execution_count": null,
   "metadata": {},
   "outputs": [],
   "source": [
    "if __name__ == '__main__':\n",
    "    main()"
   ]
  }
 ],
 "metadata": {
  "celltoolbar": "Slideshow",
  "kernelspec": {
   "display_name": "Python 3",
   "language": "python",
   "name": "python3"
  },
  "language_info": {
   "codemirror_mode": {
    "name": "ipython",
    "version": 3
   },
   "file_extension": ".py",
   "mimetype": "text/x-python",
   "name": "python",
   "nbconvert_exporter": "python",
   "pygments_lexer": "ipython3",
   "version": "3.7.2"
  }
 },
 "nbformat": 4,
 "nbformat_minor": 2
}
